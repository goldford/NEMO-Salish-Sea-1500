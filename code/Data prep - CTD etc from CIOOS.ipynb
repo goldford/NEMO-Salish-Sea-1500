{
 "cells": [
  {
   "cell_type": "code",
   "execution_count": 2,
   "metadata": {},
   "outputs": [],
   "source": [
    "# May 30 2021 - G Oldford\n",
    "# to do: \n",
    "\n",
    "# description: \n",
    "# - first convert multiple measurements in one NetCDF file to a NetCDF file per sampling event\n",
    "# - use tools from the FA12 Gitlab (M Dunphy et al) to extract to NEMO-compatible NetCDF\n",
    "\n",
    "# The following datasets extracted for bounding box (lons: -126 -> -120, lats: 46 -> 51) from\n",
    "# cioospacific.ca for 1970 - 2020\n",
    "# - Rosette data\n",
    "# - CTD profiles\n",
    "# - Moored CTD profiles\n",
    "# - ADCP measurements\n",
    "# - Moore ADCP measurements\n",
    "\n",
    "# code based on: \n",
    "#   etc/data_conversion/convert_HakaiCTDs.py (looping source data, producing one file per sample)\n",
    "#   write_cdf function - takes care of formatting file for NEMO   "
   ]
  },
  {
   "cell_type": "code",
   "execution_count": null,
   "metadata": {},
   "outputs": [],
   "source": []
  }
 ],
 "metadata": {
  "kernelspec": {
   "display_name": "Python 3",
   "language": "python",
   "name": "python3"
  },
  "language_info": {
   "codemirror_mode": {
    "name": "ipython",
    "version": 3
   },
   "file_extension": ".py",
   "mimetype": "text/x-python",
   "name": "python",
   "nbconvert_exporter": "python",
   "pygments_lexer": "ipython3",
   "version": "3.7.4"
  }
 },
 "nbformat": 4,
 "nbformat_minor": 2
}
