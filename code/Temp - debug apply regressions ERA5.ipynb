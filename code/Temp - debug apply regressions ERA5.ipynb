{
 "cells": [
  {
   "cell_type": "code",
   "execution_count": 15,
   "metadata": {},
   "outputs": [],
   "source": [
    "import pandas as pd\n",
    "import numpy as np\n",
    "import netCDF4 as nc\n",
    "import math\n",
    "with nc.Dataset('C://Users//Greig//Documents//GitHub//NEMO-Salish-Sea-2021//data//mesh mask//mesh_mask_20210406.nc') as ncf:\n",
    "  tmask = ncf.variables['tmask'][0,0,...]   # neglected the 1/2 grid box shift here"
   ]
  },
  {
   "cell_type": "code",
   "execution_count": 2,
   "metadata": {},
   "outputs": [],
   "source": [
    "def get_mask(tmask, subarea):\n",
    "    \n",
    "    tmask_subarea = np.copy(tmask)\n",
    "    \n",
    "    if subarea == \"DI\":\n",
    "        tmask_subarea[0:239,:]=0\n",
    "    elif subarea == \"NSoG\":\n",
    "        tmask_subarea[0:201,:]=0\n",
    "        tmask_subarea[239:,:]=0\n",
    "    elif subarea == \"CSoG\":\n",
    "        tmask_subarea[0:166,:]=0\n",
    "        tmask_subarea[201:,:]=0\n",
    "        tmask_subarea[:,100:]=0\n",
    "    elif subarea == \"SSoG\":\n",
    "        tmask_subarea[0:105,:]=0\n",
    "        tmask_subarea[166:,:]=0\n",
    "        tmask_subarea[166:188,98:]=tmask[166:188,98:]  # mask in Howe Sound into SSOG\n",
    "        tmask_subarea[:,0:59]=0 # mask out JDF\n",
    "    elif subarea == \"SGI\":\n",
    "        tmask_subarea = np.copy(tmask)\n",
    "        tmask_subarea[0:73,:]=0\n",
    "        tmask_subarea[105:,:]=0\n",
    "        tmask_subarea[:,0:59]=0\n",
    "    elif subarea == \"JDF\":\n",
    "        tmask_subarea[0:73,:]=0\n",
    "        tmask_subarea[155:,:]=0\n",
    "        tmask_subarea[:,59:]=0\n",
    "    elif subarea == \"PS\":\n",
    "        tmask_subarea = np.copy(tmask)\n",
    "        tmask_subarea[73:,:]=0\n",
    "    else:\n",
    "        print(\"error: subarea \" + subarea + \" not found.\")\n",
    "    return tmask_subarea"
   ]
  },
  {
   "cell_type": "code",
   "execution_count": 12,
   "metadata": {},
   "outputs": [],
   "source": [
    "def get_stats(month, area):\n",
    "    stats = pd.read_csv(\"reg_all.csv\")\n",
    "    m = stats[(stats[\"Month\"]==month) & (stats[\"SubArea\"]==area)][\"m\"].values\n",
    "    b = stats[(stats[\"Month\"]==month) & (stats[\"SubArea\"]==area)][\"b\"].values\n",
    "    return m, b"
   ]
  },
  {
   "cell_type": "code",
   "execution_count": 14,
   "metadata": {},
   "outputs": [
    {
     "name": "stdout",
     "output_type": "stream",
     "text": [
      "DI\n",
      "[0.82121094]\n",
      "[1.28583585]\n",
      "[1.05594247]\n",
      "NSoG\n",
      "[0.63536808]\n",
      "[1.88926271]\n",
      "[1.20037722]\n",
      "CSoG\n",
      "[0.99875216]\n",
      "[1.00349591]\n",
      "[1.0022437]\n",
      "SSoG\n",
      "[1.24787315]\n",
      "[-0.18123992]\n",
      "[-0.22616444]\n",
      "SGI\n",
      "[0.89962898]\n",
      "[0.60317745]\n",
      "[0.54263591]\n",
      "JDF\n",
      "[1.12594517]\n",
      "[0.86570659]\n",
      "[0.97473816]\n",
      "PS\n",
      "[1.03211948]\n",
      "[0.10519449]\n",
      "[0.10857328]\n"
     ]
    }
   ],
   "source": [
    "subareas = [\"DI\",\"NSoG\",\"CSoG\",\"SSoG\",\"SGI\",\"JDF\",\"PS\"]\n",
    "month = \"Jan\"\n",
    "for subarea in subareas:\n",
    "    tmask_subarea = get_mask(tmask, subarea)\n",
    "    m, b = get_stats(month, subarea)\n",
    "    print(subarea)\n",
    "    print(m)\n",
    "    print(b)\n",
    "\n",
    "    #m, b = get_stats(month, area)"
   ]
  },
  {
   "cell_type": "code",
   "execution_count": 17,
   "metadata": {},
   "outputs": [
    {
     "data": {
      "text/plain": [
       "-0.4161468365471424"
      ]
     },
     "execution_count": 17,
     "metadata": {},
     "output_type": "execute_result"
    }
   ],
   "source": [
    "math.cos(2)"
   ]
  },
  {
   "cell_type": "code",
   "execution_count": null,
   "metadata": {},
   "outputs": [],
   "source": []
  }
 ],
 "metadata": {
  "kernelspec": {
   "display_name": "Python 3",
   "language": "python",
   "name": "python3"
  },
  "language_info": {
   "codemirror_mode": {
    "name": "ipython",
    "version": 3
   },
   "file_extension": ".py",
   "mimetype": "text/x-python",
   "name": "python",
   "nbconvert_exporter": "python",
   "pygments_lexer": "ipython3",
   "version": "3.7.4"
  }
 },
 "nbformat": 4,
 "nbformat_minor": 2
}
