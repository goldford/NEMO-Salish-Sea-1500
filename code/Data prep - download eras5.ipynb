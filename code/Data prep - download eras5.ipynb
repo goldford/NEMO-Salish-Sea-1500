{
 "cells": [
  {
   "cell_type": "code",
   "execution_count": 2,
   "metadata": {},
   "outputs": [],
   "source": [
    "# follow instructions here: \n",
    "#insert these two lines into .cdsapirc file, likely into c:/users/username/\n",
    "#url: https://cds.climate.copernicus.eu/api/v2\n",
    "#key: 51075:b42dad06-8bbd-4987-855f-c3a4a851d26a\n"
   ]
  },
  {
   "cell_type": "code",
   "execution_count": 1,
   "metadata": {},
   "outputs": [
    {
     "name": "stderr",
     "output_type": "stream",
     "text": [
      "2021-05-27 22:37:50,543 INFO Welcome to the CDS\n",
      "2021-05-27 22:37:50,552 INFO Sending request to https://cds.climate.copernicus.eu/api/v2/resources/reanalysis-era5-single-levels\n",
      "2021-05-27 22:37:50,725 INFO Request is queued\n",
      "2021-05-27 23:08:29,075 INFO Request is running\n",
      "2021-05-28 00:35:23,756 WARNING Recovering from connection error [('Connection aborted.', OSError(\"(10054, 'WSAECONNRESET')\"))], attemps 0 of 500\n",
      "2021-05-28 00:35:23,757 WARNING Retrying in 120 seconds\n",
      "2021-05-28 00:37:23,770 INFO Retrying now...\n",
      "2021-05-28 00:37:25,070 INFO Request is completed\n",
      "2021-05-28 00:37:25,082 INFO Downloading https://download-0005.copernicus-climate.eu/cache-compute-0005/cache/data3/adaptor.mars.internal-1622181999.5896902-24906-3-c3e97795-7d25-4a73-91af-9fda140cc341.nc to ERA5_SalishSea_9vars_2015.nc (70.4M)\n",
      "2021-05-28 00:37:56,378 INFO Download rate 2.3M/s                                                                      \n"
     ]
    },
    {
     "data": {
      "text/plain": [
       "Result(content_length=73832624,content_type=application/x-netcdf,location=https://download-0005.copernicus-climate.eu/cache-compute-0005/cache/data3/adaptor.mars.internal-1622181999.5896902-24906-3-c3e97795-7d25-4a73-91af-9fda140cc341.nc)"
      ]
     },
     "execution_count": 1,
     "metadata": {},
     "output_type": "execute_result"
    }
   ],
   "source": [
    "import cdsapi\n",
    "\n",
    "c = cdsapi.Client()\n",
    "\n",
    "c.retrieve(\n",
    "    'reanalysis-era5-single-levels',\n",
    "    {\n",
    "        'product_type': 'reanalysis',\n",
    "        'variable': [\n",
    "            '10m_u_component_of_wind', '10m_v_component_of_wind', '2m_dewpoint_temperature',\n",
    "            '2m_temperature', 'mean_snowfall_rate', 'mean_surface_downward_long_wave_radiation_flux',\n",
    "            'mean_surface_downward_short_wave_radiation_flux', 'mean_total_precipitation_rate', 'surface_pressure',\n",
    "        ],\n",
    "        'year': '2015',\n",
    "        'month': [\n",
    "            '01', '02', '03',\n",
    "            '04', '05', '06',\n",
    "            '07', '08', '09',\n",
    "            '10', '11', '12',\n",
    "        ],\n",
    "        'day': [\n",
    "            '01', '02', '03',\n",
    "            '04', '05', '06',\n",
    "            '07', '08', '09',\n",
    "            '10', '11', '12',\n",
    "            '13', '14', '15',\n",
    "            '16', '17', '18',\n",
    "            '19', '20', '21',\n",
    "            '22', '23', '24',\n",
    "            '25', '26', '27',\n",
    "            '28', '29', '30',\n",
    "            '31',\n",
    "        ],\n",
    "        'time': [\n",
    "            '00:00', '01:00', '02:00',\n",
    "            '03:00', '04:00', '05:00',\n",
    "            '06:00', '07:00', '08:00',\n",
    "            '09:00', '10:00', '11:00',\n",
    "            '12:00', '13:00', '14:00',\n",
    "            '15:00', '16:00', '17:00',\n",
    "            '18:00', '19:00', '20:00',\n",
    "            '21:00', '22:00', '23:00',\n",
    "        ],\n",
    "        'area': [\n",
    "            51.07, -127, 46.73,\n",
    "            -120.7,\n",
    "        ],\n",
    "        'format': 'netcdf',\n",
    "    },\n",
    "    'ERA5_SalishSea_9vars_2015.nc')"
   ]
  },
  {
   "cell_type": "code",
   "execution_count": null,
   "metadata": {},
   "outputs": [],
   "source": []
  }
 ],
 "metadata": {
  "kernelspec": {
   "display_name": "Python 3",
   "language": "python",
   "name": "python3"
  },
  "language_info": {
   "codemirror_mode": {
    "name": "ipython",
    "version": 3
   },
   "file_extension": ".py",
   "mimetype": "text/x-python",
   "name": "python",
   "nbconvert_exporter": "python",
   "pygments_lexer": "ipython3",
   "version": "3.7.4"
  }
 },
 "nbformat": 4,
 "nbformat_minor": 2
}
