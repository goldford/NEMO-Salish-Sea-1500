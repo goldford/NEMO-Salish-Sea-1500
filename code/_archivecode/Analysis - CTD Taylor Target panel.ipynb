{
 "cells": [
  {
   "cell_type": "code",
   "execution_count": 1,
   "id": "fb5617f2",
   "metadata": {},
   "outputs": [
    {
     "name": "stderr",
     "output_type": "stream",
     "text": [
      "<frozen importlib._bootstrap>:228: RuntimeWarning: scipy._lib.messagestream.MessageStream size changed, may indicate binary incompatibility. Expected 56 from C header, got 64 from PyObject\n"
     ]
    }
   ],
   "source": [
    "import scipy.io\n",
    "import os\n",
    "import pickle\n",
    "import pandas as pd\n",
    "import numpy as np\n",
    "import scipy as sp\n",
    "import scipy.stats\n",
    "import sys\n",
    "from matplotlib import rcParams\n",
    "from matplotlib.markers import MarkerStyle\n",
    "import matplotlib\n",
    "import matplotlib.ticker as ticker\n",
    "import matplotlib.colors as clr\n",
    "from matplotlib.ticker import ScalarFormatter\n",
    "import math\n",
    "from math import log10, floor\n",
    "from array import array\n",
    "import numbers\n",
    "from matplotlib.lines import Line2D\n",
    "import warnings\n",
    "from matplotlib.markers import MarkerStyle\n",
    "import matplotlib.pyplot as plt\n",
    "import matplotlib.gridspec as gridspec\n"
   ]
  },
  {
   "cell_type": "code",
   "execution_count": 2,
   "id": "59208f92",
   "metadata": {},
   "outputs": [],
   "source": [
    "## streamline the above\n",
    "modelruns_info = {'SalishSea1500-RUN216': {'path': 'D:/temp_nemo/RUN216S/',\n",
    "                                           'colour': 'b', \n",
    "                                           'shortcode': 'RUN216'}, \n",
    "                     'SalishSea1500-RUN216-altSST': {'path': 'D:/temp_nemo/RUN216-altSST/',\n",
    "                                           'colour': 'b', \n",
    "                                           'shortcode': 'RUN216-altSST'}\n",
    "                 }\n",
    "\n",
    "msize = 12\n",
    "\n",
    "# set up markers and related options\n",
    "o_markers = {'DI': {'symbol':'D','size':msize},\n",
    "         'SGN': {'symbol':'d','size':msize},\n",
    "         'SGS': {'symbol':'o','size':msize},\n",
    "         'GI': {'symbol':'v','size':msize},\n",
    "         'HS': {'symbol':'^','size':msize},\n",
    "         'PGS': {'symbol':'s','size':msize},\n",
    "         'JFS': {'symbol':'.','size':msize}\n",
    "        }\n",
    "\n",
    "o_markerlabel = ['DI', 'SGN', 'SGS', 'GI', 'HS', 'PS', 'JFS']"
   ]
  },
  {
   "cell_type": "code",
   "execution_count": null,
   "id": "4161e3a8",
   "metadata": {},
   "outputs": [],
   "source": []
  },
  {
   "cell_type": "code",
   "execution_count": null,
   "id": "4f529a6a",
   "metadata": {},
   "outputs": [],
   "source": []
  },
  {
   "cell_type": "code",
   "execution_count": null,
   "id": "8d40b98c",
   "metadata": {},
   "outputs": [],
   "source": []
  }
 ],
 "metadata": {
  "kernelspec": {
   "display_name": "Python 3 (ipykernel)",
   "language": "python",
   "name": "python3"
  },
  "language_info": {
   "codemirror_mode": {
    "name": "ipython",
    "version": 3
   },
   "file_extension": ".py",
   "mimetype": "text/x-python",
   "name": "python",
   "nbconvert_exporter": "python",
   "pygments_lexer": "ipython3",
   "version": "3.9.13"
  }
 },
 "nbformat": 4,
 "nbformat_minor": 5
}
