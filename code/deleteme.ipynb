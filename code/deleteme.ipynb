{
 "cells": [
  {
   "cell_type": "code",
   "execution_count": 11,
   "id": "1dcdc120",
   "metadata": {},
   "outputs": [],
   "source": [
    "import pickle\n",
    "\n",
    "temp_array = pickle.load(open('C://Users//Greig//Downloads//entrance_island_lightstation_Temp.pickle', 'rb'))"
   ]
  },
  {
   "cell_type": "code",
   "execution_count": 12,
   "id": "462a8bc2",
   "metadata": {},
   "outputs": [
    {
     "data": {
      "text/plain": [
       "{'temperature': array([3.89262251, 3.77961172, 3.72315812, ..., 5.037643  , 5.1001325 ,\n",
       "        5.15877101]),\n",
       " 'salinity': array([22.97309084, 22.93774852, 22.88236902, ..., 24.88845846,\n",
       "        24.89640635, 24.92800178]),\n",
       " 'time': array([datetime.datetime(2016, 1, 1, 0, 0),\n",
       "        datetime.datetime(2016, 1, 1, 1, 0),\n",
       "        datetime.datetime(2016, 1, 1, 2, 0), ...,\n",
       "        datetime.datetime(2016, 12, 31, 22, 0),\n",
       "        datetime.datetime(2016, 12, 31, 23, 0),\n",
       "        datetime.datetime(2017, 1, 1, 0, 0)], dtype=object),\n",
       " 'station': 'entrance_island_lightstation_Temp.nc',\n",
       " 'filename': '/project/6006412/goldford/ANALYSIS/SalishSea1500-RUN203/EXTRACT/LH/entrance_island_lightstation_Temp.pickle'}"
      ]
     },
     "execution_count": 12,
     "metadata": {},
     "output_type": "execute_result"
    }
   ],
   "source": [
    "temp_array"
   ]
  },
  {
   "cell_type": "code",
   "execution_count": null,
   "id": "c9032788",
   "metadata": {},
   "outputs": [],
   "source": []
  }
 ],
 "metadata": {
  "kernelspec": {
   "display_name": "Python 3 (ipykernel)",
   "language": "python",
   "name": "python3"
  },
  "language_info": {
   "codemirror_mode": {
    "name": "ipython",
    "version": 3
   },
   "file_extension": ".py",
   "mimetype": "text/x-python",
   "name": "python",
   "nbconvert_exporter": "python",
   "pygments_lexer": "ipython3",
   "version": "3.9.13"
  }
 },
 "nbformat": 4,
 "nbformat_minor": 5
}
