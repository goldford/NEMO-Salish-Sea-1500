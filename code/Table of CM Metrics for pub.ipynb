{
 "cells": [
  {
   "cell_type": "code",
   "execution_count": 170,
   "id": "dc8f9bf5",
   "metadata": {},
   "outputs": [
    {
     "name": "stdout",
     "output_type": "stream",
     "text": [
      "Collecting windrose\n",
      "  Downloading windrose-1.9.0-py3-none-any.whl (12 kB)\n",
      "Requirement already satisfied: numpy>=1.21 in c:\\users\\greig\\anaconda3\\lib\\site-packages (from windrose) (1.21.5)\n",
      "Requirement already satisfied: matplotlib>=3 in c:\\users\\greig\\anaconda3\\lib\\site-packages (from windrose) (3.5.2)\n",
      "Requirement already satisfied: fonttools>=4.22.0 in c:\\users\\greig\\anaconda3\\lib\\site-packages (from matplotlib>=3->windrose) (4.25.0)\n",
      "Requirement already satisfied: pillow>=6.2.0 in c:\\users\\greig\\anaconda3\\lib\\site-packages (from matplotlib>=3->windrose) (9.2.0)\n",
      "Requirement already satisfied: cycler>=0.10 in c:\\users\\greig\\anaconda3\\lib\\site-packages (from matplotlib>=3->windrose) (0.11.0)\n",
      "Requirement already satisfied: python-dateutil>=2.7 in c:\\users\\greig\\anaconda3\\lib\\site-packages (from matplotlib>=3->windrose) (2.8.2)\n",
      "Requirement already satisfied: kiwisolver>=1.0.1 in c:\\users\\greig\\anaconda3\\lib\\site-packages (from matplotlib>=3->windrose) (1.4.2)\n",
      "Requirement already satisfied: pyparsing>=2.2.1 in c:\\users\\greig\\anaconda3\\lib\\site-packages (from matplotlib>=3->windrose) (3.0.9)\n",
      "Requirement already satisfied: packaging>=20.0 in c:\\users\\greig\\anaconda3\\lib\\site-packages (from matplotlib>=3->windrose) (21.3)\n",
      "Requirement already satisfied: six>=1.5 in c:\\users\\greig\\anaconda3\\lib\\site-packages (from python-dateutil>=2.7->matplotlib>=3->windrose) (1.16.0)\n",
      "Installing collected packages: windrose\n",
      "Successfully installed windrose-1.9.0\n",
      "Note: you may need to restart the kernel to use updated packages.\n"
     ]
    },
    {
     "name": "stderr",
     "output_type": "stream",
     "text": [
      "WARNING: Ignoring invalid distribution -cipy (c:\\users\\greig\\anaconda3\\lib\\site-packages)\n",
      "WARNING: Ignoring invalid distribution -cipy (c:\\users\\greig\\anaconda3\\lib\\site-packages)\n",
      "WARNING: Ignoring invalid distribution -cipy (c:\\users\\greig\\anaconda3\\lib\\site-packages)\n",
      "WARNING: Ignoring invalid distribution -cipy (c:\\users\\greig\\anaconda3\\lib\\site-packages)\n",
      "WARNING: Ignoring invalid distribution -cipy (c:\\users\\greig\\anaconda3\\lib\\site-packages)\n",
      "WARNING: Ignoring invalid distribution -cipy (c:\\users\\greig\\anaconda3\\lib\\site-packages)\n",
      "WARNING: Ignoring invalid distribution -cipy (c:\\users\\greig\\anaconda3\\lib\\site-packages)\n"
     ]
    }
   ],
   "source": [
    "# pip install windrose"
   ]
  },
  {
   "cell_type": "code",
   "execution_count": 31,
   "id": "e22887da",
   "metadata": {},
   "outputs": [],
   "source": [
    "# get the lats and lons, id's of current meter instruments \n",
    "# export some stats for eval of currents (not all tidal related stats though)\n",
    "# extracted by pyap from 'class 4' data output from analyze.py\n",
    "\n",
    "# created by G Oldford Aug 2023\n",
    "\n",
    "import pickle\n",
    "import os\n",
    "import csv\n",
    "\n",
    "cm_p = 'D:/temp_nemo/RUN216/PROCESS/'\n",
    "cm_f = 'CM_class4_SalishSea1500-RUN216_depth-below-surface.pickle'\n",
    "\n",
    "out_p = '../data/evaluation/'\n",
    "out_f = 'cm_locations.csv'\n",
    "\n",
    "cm_class4 = pickle.load(open(os.path.join(cm_p,cm_f), 'rb'))\n",
    "\n",
    "\n",
    "\n",
    "for meter in cm_class4.keys():\n",
    "    print(meter)\n",
    "    for depth in cm_class4[meter].keys():\n",
    "        lon = cm_class4[meter][depth]['total']['location'][0]\n",
    "        lat = cm_class4[meter][depth]['total']['location'][1]\n",
    "        print(lon)\n",
    "        print(lat)\n",
    "        \n",
    "        # Now we'll write these values to a CSV file\n",
    "        with open(os.path.join(out_p, out_f), mode='a', newline='') as csv_file:\n",
    "            fieldnames = ['meter', 'lat', 'lon']  # Column headings\n",
    "            writer = csv.DictWriter(csv_file, fieldnames=fieldnames)\n",
    "\n",
    "            # Check if the file is empty and write the headers if needed\n",
    "            if csv_file.tell() == 0:\n",
    "                writer.writeheader()\n",
    "\n",
    "            # Write the values for the current iteration\n",
    "            writer.writerow({'meter': meter, 'lat': lat, 'lon': lon})"
   ]
  },
  {
   "cell_type": "code",
   "execution_count": 44,
   "id": "dcb8588d",
   "metadata": {},
   "outputs": [
    {
     "data": {
      "text/plain": [
       "dict_keys(['mean_obs', 'mean_mod', 'bias', 'crmse', 'rmse', 'gamma2', 'vector_correlation', 'vector_correlation_magnitude', 'vector_correlation_radians', 'vector_correlation_degrees'])"
      ]
     },
     "execution_count": 44,
     "metadata": {},
     "output_type": "execute_result"
    }
   ],
   "source": [
    "cm_class4[meter][1.600000023841858]['residual']['scores']"
   ]
  },
  {
   "cell_type": "code",
   "execution_count": 69,
   "id": "09408e0c",
   "metadata": {
    "scrolled": false
   },
   "outputs": [
    {
     "data": {
      "text/plain": [
       "(0.24298712839489592-0.10302862787033484j)"
      ]
     },
     "execution_count": 69,
     "metadata": {},
     "output_type": "execute_result"
    }
   ],
   "source": [
    "cm_class4[meter][111.0]['residual']['scores']['vector_correlation']"
   ]
  },
  {
   "cell_type": "code",
   "execution_count": 53,
   "id": "7bb67db7",
   "metadata": {
    "scrolled": false
   },
   "outputs": [
    {
     "data": {
      "text/plain": [
       "dict_keys([111.0])"
      ]
     },
     "execution_count": 53,
     "metadata": {},
     "output_type": "execute_result"
    }
   ],
   "source": [
    "meter = 'AS04_CM_20180327-1822_20181029-1607_111m_noNaN'\n",
    "cm_class4[meter].keys()"
   ]
  },
  {
   "cell_type": "code",
   "execution_count": 151,
   "id": "fd2944ed",
   "metadata": {
    "scrolled": false
   },
   "outputs": [
    {
     "name": "stdout",
     "output_type": "stream",
     "text": [
      "note this does not export all stats related to tides\n",
      "AS04\n",
      "depth:  111.0\n",
      "total:  0.91\n",
      "non tidal:  0.24\n",
      "tidal:  0.96\n",
      "\n",
      "AS04\n",
      "depth:  111.0\n",
      "total:  0.9\n",
      "non tidal:  0.28\n",
      "tidal:  0.95\n",
      "\n",
      "AS04\n",
      "depth:  111.0\n",
      "total:  0.9\n",
      "non tidal:  0.28\n",
      "tidal:  0.95\n",
      "\n",
      "AS04\n",
      "depth:  111.0\n",
      "total:  0.88\n",
      "non tidal:  0.26\n",
      "tidal:  0.93\n",
      "\n",
      "AS04\n",
      "depth:  111.0\n",
      "total:  0.85\n",
      "non tidal:  0.17\n",
      "tidal:  0.9\n",
      "\n",
      "BDYPM\n",
      "depth:  220.0\n",
      "total:  0.55\n",
      "non tidal:  0.03\n",
      "tidal:  0.69\n",
      "\n",
      "BDYPM\n",
      "depth:  220.0\n",
      "total:  0.35\n",
      "non tidal:  0.13\n",
      "tidal:  0.49\n",
      "\n",
      "BDYPM\n",
      "depth:  220.0\n",
      "total:  0.31\n",
      "non tidal:  0.08\n",
      "tidal:  0.44\n",
      "\n",
      "BDYPM\n",
      "depth:  220.0\n",
      "total:  0.48\n",
      "error getting stats (residual)\n",
      "error getting stats (tidal)\n",
      "\n",
      "BDYPM\n",
      "depth:  220.0\n",
      "total:  0.6\n",
      "non tidal:  0.02\n",
      "tidal:  0.73\n",
      "\n",
      "BDYPM\n",
      "depth:  220.0\n",
      "total:  0.58\n",
      "non tidal:  0.01\n",
      "tidal:  0.72\n",
      "\n",
      "JF2C\n",
      "depth:  182.0\n",
      "total:  0.72\n",
      "non tidal:  0.13\n",
      "tidal:  0.82\n",
      "\n",
      "JF2C\n",
      "depth:  182.0\n",
      "total:  0.86\n",
      "non tidal:  0.22\n",
      "tidal:  0.91\n",
      "\n",
      "JF2C\n",
      "depth:  182.0\n",
      "total:  0.94\n",
      "non tidal:  0.2\n",
      "tidal:  0.98\n",
      "\n",
      "MAC\n",
      "depth:  55.0\n",
      "total:  0.74\n",
      "non tidal:  0.11\n",
      "tidal:  0.86\n",
      "\n",
      "MAC\n",
      "depth:  55.0\n",
      "total:  0.63\n",
      "non tidal:  0.19\n",
      "tidal:  0.76\n",
      "\n",
      "MAC\n",
      "depth:  55.0\n",
      "total:  0.13\n",
      "non tidal:  0.2\n",
      "tidal:  0.17\n",
      "\n",
      "MAC\n",
      "depth:  55.0\n",
      "total:  0.27\n",
      "non tidal:  0.05\n",
      "tidal:  0.39\n",
      "\n",
      "MAC\n",
      "depth:  55.0\n",
      "total:  0.78\n",
      "non tidal:  0.17\n",
      "tidal:  0.89\n",
      "\n",
      "Sooke\n",
      "depth:  180.52\n",
      "total:  0.35\n",
      "non tidal:  0.07\n",
      "tidal:  0.45\n",
      "\n",
      "Sooke\n",
      "depth:  180.31\n",
      "total:  0.84\n",
      "non tidal:  0.06\n",
      "tidal:  0.9\n",
      "\n",
      "NDBC46087\n",
      "depth:  1.6\n",
      "total:  0.51\n",
      "non tidal:  0.32\n",
      "tidal:  0.77\n",
      "\n",
      "NDBC46087\n",
      "depth:  1.6\n",
      "total:  0.51\n",
      "non tidal:  0.36\n",
      "tidal:  0.72\n",
      "\n",
      "NDBC46087\n",
      "depth:  1.6\n",
      "total:  0.45\n",
      "non tidal:  0.39\n",
      "tidal:  0.67\n",
      "\n",
      "NDBC46087\n",
      "depth:  1.6\n",
      "total:  0.46\n",
      "non tidal:  0.24\n",
      "tidal:  0.71\n",
      "\n",
      "NDBC46087\n",
      "depth:  1.6\n",
      "total:  0.19\n",
      "non tidal:  0.11\n",
      "tidal:  0.31\n",
      "\n",
      "NDBC46087\n",
      "depth:  1.6\n",
      "total:  0.18\n",
      "non tidal:  0.27\n",
      "tidal:  0.22\n",
      "\n",
      "NDBC46087\n",
      "depth:  1.6\n",
      "total:  0.14\n",
      "non tidal:  0.31\n",
      "tidal:  0.17\n",
      "\n",
      "NDBC46087\n",
      "depth:  1.6\n",
      "total:  0.22\n",
      "non tidal:  0.21\n",
      "tidal:  0.34\n",
      "\n",
      "NDBC46087\n",
      "depth:  1.6\n",
      "total:  0.09\n",
      "non tidal:  0.24\n",
      "tidal:  0.14\n",
      "\n",
      "NDBC46087\n",
      "depth:  1.6\n",
      "total:  0.05\n",
      "non tidal:  0.21\n",
      "tidal:  0.09\n",
      "\n",
      "NDBC46088\n",
      "depth:  1.6\n",
      "total:  0.82\n",
      "non tidal:  0.32\n",
      "tidal:  0.93\n",
      "\n",
      "NDBC46088\n",
      "depth:  1.6\n",
      "total:  0.74\n",
      "non tidal:  0.22\n",
      "tidal:  0.87\n",
      "\n",
      "NDBC46088\n",
      "depth:  1.6\n",
      "total:  0.78\n",
      "non tidal:  0.23\n",
      "tidal:  0.93\n",
      "\n",
      "NDBC46088\n",
      "depth:  1.6\n",
      "total:  0.82\n",
      "non tidal:  0.29\n",
      "tidal:  0.91\n",
      "\n",
      "NDBC46088\n",
      "depth:  1.6\n",
      "total:  0.37\n",
      "non tidal:  0.05\n",
      "tidal:  0.43\n",
      "\n",
      "NDBC46088\n",
      "depth:  1.6\n",
      "total:  0.11\n",
      "non tidal:  0.12\n",
      "tidal:  0.13\n",
      "\n",
      "NDBC46088\n",
      "depth:  1.6\n",
      "total:  0.07\n",
      "non tidal:  0.09\n",
      "tidal:  0.09\n",
      "\n",
      "NDBC46088\n",
      "depth:  1.6\n",
      "total:  0.3\n",
      "non tidal:  0.09\n",
      "tidal:  0.4\n",
      "\n",
      "NDBC46088\n",
      "depth:  1.6\n",
      "total:  0.05\n",
      "non tidal:  0.05\n",
      "tidal:  0.06\n",
      "\n",
      "NDBC46088\n",
      "depth:  1.6\n",
      "total:  0.11\n",
      "non tidal:  0.06\n",
      "tidal:  0.15\n",
      "\n",
      "NDBC46088\n",
      "depth:  1.6\n",
      "total:  0.22\n",
      "non tidal:  0.02\n",
      "tidal:  0.27\n",
      "\n"
     ]
    },
    {
     "name": "stderr",
     "output_type": "stream",
     "text": [
      "C:\\Users\\Greig\\AppData\\Local\\Temp\\ipykernel_13608\\2355812966.py:62: DeprecationWarning: The Python built-in `round` is deprecated for complex scalars, and will raise a `TypeError` in a future release. Use `np.round` or `scalar.round` instead.\n",
      "  'CCE': round(cce, 2),\n",
      "C:\\Users\\Greig\\AppData\\Local\\Temp\\ipykernel_13608\\2355812966.py:70: DeprecationWarning: The Python built-in `round` is deprecated for complex scalars, and will raise a `TypeError` in a future release. Use `np.round` or `scalar.round` instead.\n",
      "  'Complex Bias': round(bias,2),\n",
      "C:\\Users\\Greig\\AppData\\Local\\Temp\\ipykernel_13608\\2355812966.py:108: DeprecationWarning: The Python built-in `round` is deprecated for complex scalars, and will raise a `TypeError` in a future release. Use `np.round` or `scalar.round` instead.\n",
      "  'CCE': round(cce_nt, 2),\n",
      "C:\\Users\\Greig\\AppData\\Local\\Temp\\ipykernel_13608\\2355812966.py:116: DeprecationWarning: The Python built-in `round` is deprecated for complex scalars, and will raise a `TypeError` in a future release. Use `np.round` or `scalar.round` instead.\n",
      "  'Complex Bias': round(bias_nt,2),\n",
      "C:\\Users\\Greig\\AppData\\Local\\Temp\\ipykernel_13608\\2355812966.py:150: DeprecationWarning: The Python built-in `round` is deprecated for complex scalars, and will raise a `TypeError` in a future release. Use `np.round` or `scalar.round` instead.\n",
      "  'CCE': round(cce_t, 2),\n"
     ]
    }
   ],
   "source": [
    "out_p = '../data/evaluation/'\n",
    "out_f = 'cm_pyap_stats.csv'\n",
    "\n",
    "print(\"note this does not export all stats related to tides\")\n",
    "\n",
    "with open(os.path.join(out_p, out_f), 'w', newline='') as csvfile:\n",
    "    fieldnames = ['Meter', 'Depth', 'Type', \n",
    "                  'Date Start', 'Date End',\n",
    "                  'Latitude', 'Longitude',\n",
    "                  'CCE', 'CCE Mag.', 'CCE Deg.', \n",
    "                  'Mean Mag. Obs. (m/s)', 'Mean Dir. Obs. (deg.)', \n",
    "                  'Mean Mag. Mod. (m/s)', 'Mean Dir. Mod. (deg.)',\n",
    "                  'Simple Bias (m/s)', 'Complex Bias', 'RMSE', 'CRMSE'\n",
    "                 ]\n",
    "    writer = csv.DictWriter(csvfile, fieldnames=fieldnames)\n",
    "\n",
    "    writer.writeheader()\n",
    "\n",
    "    for meter in cm_class4.keys():\n",
    "        print(meter.split('_', 1)[0])\n",
    "        for depth in cm_class4[meter].keys():\n",
    "            print(\"depth: \", round(depth,2))\n",
    "            \n",
    "            # total \n",
    "            if not cm_class4[meter][depth]['total'] is None:\n",
    "                date_start = cm_class4[meter][depth]['total']['obs']['time'][0].strftime('%Y-%m-%d')\n",
    "                date_end = cm_class4[meter][depth]['total']['obs']['time'][-1].strftime('%Y-%m-%d')\n",
    "                \n",
    "                lon = cm_class4[meter][depth]['total']['location'][0]\n",
    "                lat = cm_class4[meter][depth]['total']['location'][1]\n",
    "                \n",
    "                cce = cm_class4[meter][depth]['total']['scores']['vector_correlation']\n",
    "                cce_mag = cm_class4[meter][depth]['total']['scores']['vector_correlation_magnitude']\n",
    "                cce_deg = cm_class4[meter][depth]['total']['scores']['vector_correlation_degrees']\n",
    "\n",
    "                mean_spd_tot_obs = cm_class4[meter][depth]['total']['means']['obs_sd']['full'][0]\n",
    "                mean_spd_tot_mod = cm_class4[meter][depth]['total']['means']['mod_sd']['full'][0]\n",
    "                mean_dir_tot_obs = cm_class4[meter][depth]['total']['means']['obs_sd']['full'][1]\n",
    "                mean_dir_tot_mod = cm_class4[meter][depth]['total']['means']['mod_sd']['full'][1]\n",
    "                \n",
    "                bias = cm_class4[meter][depth]['total']['scores']['bias']\n",
    "                rmse = cm_class4[meter][depth]['total']['scores']['rmse']\n",
    "                crmse = cm_class4[meter][depth]['total']['scores']['crmse']\n",
    "\n",
    "                print(\"total: \", round(cce_mag,2))\n",
    "            else:\n",
    "                print(\"error getting stats (total)\")\n",
    "                cce = cce_mag = cce_deg = -999.0\n",
    "                mean_spd_tot_obs = mean_spd_tot_mod = mean_dir_tot_obs = mean_dir_tot_mod = -999.0\n",
    "                bias = crmse = rmse = -999.0\n",
    "                lon = lat = -999.0\n",
    "                date_start = date_end = -999.0\n",
    "                \n",
    "            writer.writerow({\n",
    "                    'Meter': meter.split('_', 1)[0],\n",
    "                    'Depth': round(depth, 2),\n",
    "                    'Type': 'Total',\n",
    "                    'Date Start': date_start,\n",
    "                    'Date End': date_end,\n",
    "                    'Longitude': lon,\n",
    "                    'Latitude': lat,\n",
    "                    'CCE': round(cce, 2),\n",
    "                    'CCE Mag.': round(cce_mag, 2),\n",
    "                    'CCE Deg.': round(cce_deg, 2),\n",
    "                    'Mean Mag. Obs. (m/s)': round(mean_spd_tot_obs,2),\n",
    "                    'Mean Dir. Obs. (deg.)': round(mean_dir_tot_obs,2),\n",
    "                    'Mean Mag. Mod. (m/s)': round(mean_spd_tot_mod,2),\n",
    "                    'Mean Dir. Mod. (deg.)': round(mean_dir_tot_mod,2),\n",
    "                    'Simple Bias (m/s)': round((mean_spd_tot_mod - mean_spd_tot_obs),2),\n",
    "                    'Complex Bias': round(bias,2),\n",
    "                    'RMSE': round(rmse,2),\n",
    "                    'CRMSE': round(crmse,2)\n",
    "                })\n",
    "            \n",
    "            # non tidal\n",
    "            if not cm_class4[meter][depth]['residual'] is None:\n",
    "                cce_nt = cm_class4[meter][depth]['residual']['scores']['vector_correlation']\n",
    "                cce_mag_nt = cm_class4[meter][depth]['residual']['scores']['vector_correlation_magnitude']\n",
    "                cce_deg_nt = cm_class4[meter][depth]['residual']['scores']['vector_correlation_degrees']\n",
    "\n",
    "                mean_spd_nt_obs = cm_class4[meter][depth]['residual']['means']['obs_sd']['full'][0]\n",
    "                mean_spd_nt_mod = cm_class4[meter][depth]['residual']['means']['mod_sd']['full'][0]\n",
    "                mean_dir_nt_obs = cm_class4[meter][depth]['residual']['means']['obs_sd']['full'][1]\n",
    "                mean_dir_nt_mod = cm_class4[meter][depth]['residual']['means']['mod_sd']['full'][1]\n",
    "                \n",
    "                bias_nt = cm_class4[meter][depth]['residual']['scores']['bias']\n",
    "                rmse_nt = cm_class4[meter][depth]['residual']['scores']['rmse']\n",
    "                crmse_nt = cm_class4[meter][depth]['residual']['scores']['crmse']\n",
    "\n",
    "                print(\"non tidal: \", round(cce_mag_nt,2))\n",
    "    #             print(cce_nt)\n",
    "    #             print(round(cce_mag_nt,2))\n",
    "    #             print(cce_deg_nt)\n",
    "            else:\n",
    "                print(\"error getting stats (residual)\")\n",
    "                cce_nt = cce_mag_nt = cce_deg_nt = -999.0\n",
    "                mean_spd_nt_obs = mean_spd_nt_mod = mean_dir_tid_obs = mean_dir_tid_mod = -999.0\n",
    "                bias_nt = rmse_nt = crmse_nt = -999.0\n",
    "\n",
    "            writer.writerow({\n",
    "                    'Meter': meter.split('_', 1)[0],\n",
    "                    'Depth': round(depth, 2),\n",
    "                    'Type': 'Non-Tidal',\n",
    "                    'Date Start': date_start,\n",
    "                    'Date End': date_end,\n",
    "                    'Longitude': lon,\n",
    "                    'Latitude': lat,\n",
    "                    'CCE': round(cce_nt, 2),\n",
    "                    'CCE Mag.': round(cce_mag_nt, 2),\n",
    "                    'CCE Deg.': round(cce_deg_nt, 2),\n",
    "                    'Mean Mag. Obs. (m/s)': round(mean_spd_nt_obs,2),\n",
    "                    'Mean Dir. Obs. (deg.)': round(mean_dir_nt_obs,2),\n",
    "                    'Mean Mag. Mod. (m/s)': round(mean_spd_nt_mod,2),\n",
    "                    'Mean Dir. Mod. (deg.)': round(mean_dir_nt_mod,2),\n",
    "                    'Simple Bias (m/s)': round((mean_spd_nt_mod-mean_spd_nt_obs),2),\n",
    "                    'Complex Bias': round(bias_nt,2),\n",
    "                    'RMSE': round(rmse_nt,2),\n",
    "                    'CRMSE': round(crmse_nt,2)\n",
    "                })\n",
    "                \n",
    "            # tidal\n",
    "            if not cm_class4[meter][depth]['tidal'] is None:\n",
    "                cce_t = cm_class4[meter][depth]['tidal']['scores']['vector_correlation']\n",
    "                cce_mag_t = cm_class4[meter][depth]['tidal']['scores']['vector_correlation_magnitude']\n",
    "                cce_deg_t = cm_class4[meter][depth]['tidal']['scores']['vector_correlation_degrees']\n",
    "\n",
    "                # no means for tidal\n",
    "#                 mean_spd_tid_obs = cm_class4[meter][depth]['tidal']['means']['obs_sd']['full'][0]\n",
    "#                 mean_spd_tid_mod = cm_class4[meter][depth]['tidal']['means']['mod_sd']['full'][0]\n",
    "#                 mean_dir_tid_obs = cm_class4[meter][depth]['tidal']['means']['obs_sd']['full'][1]\n",
    "#                 mean_dir_tid_mod = cm_class4[meter][depth]['tidal']['means']['mod_sd']['full'][1]        \n",
    "\n",
    "                print(\"tidal: \", round(cce_mag_t,2))\n",
    "    #             print(cce_nt)\n",
    "    #             print(round(cce_mag_nt,2))\n",
    "    #             print(cce_deg_nt)\n",
    "            else:\n",
    "                print(\"error getting stats (tidal)\")\n",
    "                cce_t = cce_mag_t = cce_deg_t = -999.0\n",
    "                mean_spd_tid_obs = mean_spd_tid_mod = mean_dir_tid_obs = mean_dir_tid_mod = -999.0\n",
    "\n",
    "            writer.writerow({\n",
    "                    'Meter': meter.split('_', 1)[0],\n",
    "                    'Depth': round(depth, 2),\n",
    "                    'Type': 'Tidal',\n",
    "                    'Date Start': date_start,\n",
    "                    'Date End': date_end,\n",
    "                    'Longitude': lon,\n",
    "                    'Latitude': lat,\n",
    "                    'CCE': round(cce_t, 2),\n",
    "                    'CCE Mag.': round(cce_mag_t, 2),\n",
    "                    'CCE Deg.': round(cce_deg_t, 2),\n",
    "                    'Mean Mag. Obs. (m/s)': -999.0,\n",
    "                    'Mean Dir. Obs. (deg.)': -999.0,\n",
    "                    'Mean Mag. Mod. (m/s)': -999.0,\n",
    "                    'Mean Dir. Mod. (deg.)': -999.0,\n",
    "                    'Simple Bias (m/s)': -999.0,\n",
    "                    'Complex Bias': -999.0,\n",
    "                    'RMSE': -999.0,\n",
    "                    'CRMSE': -999.0\n",
    "                })\n",
    "                \n",
    "            \n",
    "\n",
    "        print(\"\")"
   ]
  },
  {
   "cell_type": "code",
   "execution_count": 143,
   "id": "763e9ec1",
   "metadata": {},
   "outputs": [],
   "source": [
    "# scraps below"
   ]
  },
  {
   "cell_type": "code",
   "execution_count": 169,
   "id": "cf12ae45",
   "metadata": {},
   "outputs": [
    {
     "data": {
      "text/plain": [
       "dict_keys(['time', 'u', 'v', 'speed', 'dirn'])"
      ]
     },
     "execution_count": 169,
     "metadata": {},
     "output_type": "execute_result"
    }
   ],
   "source": [
    "meter = 'AS04_CM_20160101-0037_20160415-1552_111m_noNaN'\n",
    "depth = 111.0\n",
    "cm_class4[meter][depth]['total']['obs'].keys()"
   ]
  },
  {
   "cell_type": "code",
   "execution_count": 139,
   "id": "2f1c6e4b",
   "metadata": {
    "scrolled": false
   },
   "outputs": [
    {
     "data": {
      "text/plain": [
       "'2018-09-16'"
      ]
     },
     "execution_count": 139,
     "metadata": {},
     "output_type": "execute_result"
    }
   ],
   "source": [
    "cm_class4[meter][depth]['total']['obs']['time'][0].strftime('%Y-%m-%d')\n",
    "# cm_class4[meter][depth]['total']['obs']['time'][-1]"
   ]
  },
  {
   "cell_type": "code",
   "execution_count": 140,
   "id": "25758406",
   "metadata": {},
   "outputs": [
    {
     "data": {
      "text/plain": [
       "'NDBC46088'"
      ]
     },
     "execution_count": 140,
     "metadata": {},
     "output_type": "execute_result"
    }
   ],
   "source": [
    "meter.split('_', 1)[0]"
   ]
  },
  {
   "cell_type": "code",
   "execution_count": 145,
   "id": "84741a55",
   "metadata": {},
   "outputs": [
    {
     "data": {
      "text/plain": [
       "dict_keys(['mean_obs', 'mean_mod', 'bias', 'crmse', 'rmse', 'gamma2', 'vector_correlation', 'vector_correlation_magnitude', 'vector_correlation_radians', 'vector_correlation_degrees'])"
      ]
     },
     "execution_count": 145,
     "metadata": {},
     "output_type": "execute_result"
    }
   ],
   "source": [
    "cm_class4[meter][depth]['total']['scores'].keys()"
   ]
  },
  {
   "cell_type": "code",
   "execution_count": 185,
   "id": "0cd0e0dd",
   "metadata": {},
   "outputs": [
    {
     "data": {
      "image/png": "[encoded data removed]",
      "text/plain": [
       "<Figure size 640x480 with 1 Axes>"
      ]
     },
     "metadata": {},
     "output_type": "display_data"
    }
   ],
   "source": [
    "import matplotlib.pyplot as plt\n",
    "from windrose import WindroseAxes\n",
    "import numpy as np\n",
    "\n",
    "obs_data = cm_class4[meter][depth]['total']['obs']\n",
    "speeds = obs_data['speed']\n",
    "directions = obs_data['dirn']\n",
    "\n",
    "# Create a wind rose plot\n",
    "fig, ax = plt.subplots(subplot_kw={'projection': 'windrose'})\n",
    "\n",
    "\n",
    "\n",
    "# Convert directions to radians\n",
    "directions_rad = np.radians(directions)\n",
    "\n",
    "# Plot the wind rose\n",
    "# ax = WindroseAxes.from_ax()\n",
    "ax.bar(directions, speeds, normed=True, opening=0.8, edgecolor='white')\n",
    "\n",
    "\n",
    "\n",
    "# ax.set_xticklabels(['E', 'NE', 'N', 'NW', 'W', 'SW', 'S', 'SE'])\n",
    "ax.set_legend()\n",
    "\n",
    "plt.title('Water Current Speed and Direction')\n",
    "plt.show()"
   ]
  },
  {
   "cell_type": "code",
   "execution_count": 253,
   "id": "6796919f",
   "metadata": {},
   "outputs": [
    {
     "data": {
      "image/png": "[encoded data removed]",
      "text/plain": [
       "<Figure size 640x480 with 1 Axes>"
      ]
     },
     "metadata": {},
     "output_type": "display_data"
    }
   ],
   "source": [
    "\n",
    "obs_data = cm_class4[meter][depth]['total']['obs']\n",
    "mod_data = cm_class4[meter][depth]['total']['mod']\n",
    "\n",
    "trunc = 10 \n",
    "\n",
    "obs_speeds = obs_data['speed'][0:trunc]\n",
    "obs_u = obs_data['u'][0:trunc]\n",
    "obs_v = obs_data['v'][0:trunc]\n",
    "obs_directions = obs_data['dirn'][0:trunc]\n",
    "\n",
    "mod_speeds = mod_data['speed'][0:trunc]\n",
    "mod_directions = mod_data['dirn'][0:trunc]\n",
    "mod_u = mod_data['u'][0:trunc]\n",
    "mod_v = mod_data['v'][0:trunc]\n",
    "\n",
    "# obs_directions_rad = np.radians(obs_directions)\n",
    "# mod_directions_rad = np.radians(mod_directions)\n",
    "\n",
    "min_y = min(np.min(obs_v), np.min(mod_v))\n",
    "max_y = max(np.max(obs_v), np.max(mod_v))\n",
    "\n",
    "\n",
    "# Create a quiver plot\n",
    "fig, ax = plt.subplots()\n",
    "\n",
    "# Plot 'obs' data as quiver\n",
    "ax.quiver(\n",
    "    obs_data['time'][0:trunc],          # x-coordinates\n",
    "    np.zeros_like(obs_speeds), # y-coordinates (set to zero for overlay)\n",
    "    obs_u, # u (speed in x-direction)\n",
    "    obs_v, # v (speed in y-direction)\n",
    "    angles='xy', color='blue', label='Observed', scale=1,\n",
    "    width=0.002\n",
    ")\n",
    "\n",
    "# Overlay 'mod' data as quiver\n",
    "# ax.quiver(\n",
    "#     mod_data['time'][0:trunc],          # x-coordinates\n",
    "#     np.zeros_like(mod_speeds), # y-coordinates (set to zero for overlay)\n",
    "#     mod_u, # u (speed in x-direction)\n",
    "#     mod_v, # v (speed in y-direction)\n",
    "#     angles='xy', color='red', label='Modeled', alpha=0.7, width=0.002, scale=1\n",
    "# )\n",
    "\n",
    "ax.set_xlabel('Time')\n",
    "ax.set_ylabel('Current Speed')\n",
    "# ax.set_ylim(min_y*10, max_y*10)  # Set y-axis limits\n",
    "ax.legend()\n",
    "ax.set_title('Water Current Speed and Direction')\n",
    "plt.show()"
   ]
  },
  {
   "cell_type": "code",
   "execution_count": 240,
   "id": "7fd012be",
   "metadata": {},
   "outputs": [
    {
     "data": {
      "text/plain": [
       "0.867"
      ]
     },
     "execution_count": 240,
     "metadata": {},
     "output_type": "execute_result"
    }
   ],
   "source": [
    "max_y"
   ]
  },
  {
   "cell_type": "code",
   "execution_count": 252,
   "id": "c34bdd02",
   "metadata": {},
   "outputs": [
    {
     "data": {
      "text/plain": [
       "array([ 0.2085,  0.157 , -0.042 , -0.201 ,  0.027 ,  0.0325, -0.0075,\n",
       "       -0.0375, -0.1275, -0.1055])"
      ]
     },
     "execution_count": 252,
     "metadata": {},
     "output_type": "execute_result"
    }
   ],
   "source": [
    "obs_v"
   ]
  },
  {
   "cell_type": "code",
   "execution_count": null,
   "id": "0b919525",
   "metadata": {},
   "outputs": [],
   "source": []
  }
 ],
 "metadata": {
  "kernelspec": {
   "display_name": "Python 3 (ipykernel)",
   "language": "python",
   "name": "python3"
  },
  "language_info": {
   "codemirror_mode": {
    "name": "ipython",
    "version": 3
   },
   "file_extension": ".py",
   "mimetype": "text/x-python",
   "name": "python",
   "nbconvert_exporter": "python",
   "pygments_lexer": "ipython3",
   "version": "3.9.13"
  }
 },
 "nbformat": 4,
 "nbformat_minor": 5
}
