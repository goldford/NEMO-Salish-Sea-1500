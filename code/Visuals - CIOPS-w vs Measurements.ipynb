{
 "cells": [
  {
   "cell_type": "code",
   "execution_count": null,
   "metadata": {},
   "outputs": [],
   "source": [
    "# load netcdf files from CIOPS-West (one per month)\n",
    "# load netcdf files from observational data (one)\n",
    "\n",
    "# CIOPS-West:\n",
    "\n",
    "# provided by mdunphy, downloaded May 11, 2021\n",
    "# format: one netcdf file per day for hourly temp and salin\n",
    "# example file: ts_W_y2019m12d09.nc\n",
    "# stored here: C:\\Users\\Greig\\Sync\\6. SSMSP Model\\Model Greig\\Data\\29. Water Properties\\CIOPSWest\n",
    "\n",
    "# measurement / observation data: \n",
    "\n",
    "# 1/ Older IOS Moored Acoustic Dopller Current Profiler (ADCP) Profile Data \n",
    "# https://catalogue.cioospacific.ca/dataset/bodc-meds-cf-v52_ios_adcp_moorings\n",
    "# https://data.cioospacific.ca/erddap/tabledap/IOS_ADCP_Moorings.html\n",
    "# 1979 - 2019,  48.1 <= Lat >= 48.7 ,  -125.3 <= Lon >= -124.1  (Juan de Fuca)\n",
    "# Does not include salinity\n",
    "# IOS_CUR_Moorings_1979to2019.nc\n",
    "\n",
    "# 2/ IOS CTD Profiles\n",
    "# https://data.cioospacific.ca/erddap/tabledap/IOS_CTD_Profiles.html\n",
    "# https://catalogue.cioospacific.ca/dataset/ios_ctd_profiles\n",
    "# available back to 1965\n",
    "# extracted: 1975 - present, 48.1 <= Lat >= 48.7 ,  -125.3 <= Lon >= -124.1  (Juan de Fuca entrance)\n",
    "#"
   ]
  },
  {
   "cell_type": "markdown",
   "metadata": {},
   "source": [
    "## TOC: <a class=\"anchor\" id=\"top\"></a>\n",
    "* [1. IOS DATA](#section-1)\n",
    "    * [1a. Moored Acoustic Doppler Current Profiler (ADCP)](#section-1a)\n",
    "    * [1b. IOS CTD Profile](#section-1b) \n",
    "    * [1c. Combine IOS ADCP & CTD Data](#section-1c) \n",
    "* [2. CIOPS Data](#section-2) "
   ]
  },
  {
   "cell_type": "code",
   "execution_count": 6,
   "metadata": {},
   "outputs": [],
   "source": [
    "%matplotlib notebook\n",
    "import netCDF4 as nc\n",
    "import pandas as pd\n",
    "import numpy as np\n",
    "import matplotlib.pyplot as plt\n",
    "import netCDF4 as nc\n"
   ]
  },
  {
   "cell_type": "code",
   "execution_count": null,
   "metadata": {},
   "outputs": [],
   "source": []
  },
  {
   "cell_type": "code",
   "execution_count": 24,
   "metadata": {},
   "outputs": [
    {
     "name": "stdout",
     "output_type": "stream",
     "text": [
      "{'votemper': <class 'netCDF4._netCDF4.Variable'>\n",
      "float32 votemper(time_counter, deptht, yb, xb)\n",
      "    units: deg C\n",
      "    grid: bdyT\n",
      "unlimited dimensions: time_counter\n",
      "current shape = (24, 40, 10, 10)\n",
      "filling on, default _FillValue of 9.969209968386869e+36 used, 'vosaline': <class 'netCDF4._netCDF4.Variable'>\n",
      "float32 vosaline(time_counter, deptht, yb, xb)\n",
      "    units: g/kg\n",
      "    grid: bdyT\n",
      "unlimited dimensions: time_counter\n",
      "current shape = (24, 40, 10, 10)\n",
      "filling on, default _FillValue of 9.969209968386869e+36 used, 'time_counter': <class 'netCDF4._netCDF4.Variable'>\n",
      "float64 time_counter(time_counter)\n",
      "    standard_name: time\n",
      "    units: seconds since 1950-01-01 00:00:00\n",
      "    calendar: gregorian\n",
      "unlimited dimensions: time_counter\n",
      "current shape = (24,)\n",
      "filling on, default _FillValue of 9.969209968386869e+36 used}\n"
     ]
    }
   ],
   "source": [
    "########################### CIOPSw Data ##############################\n",
    "# extract temp. and salin. for a coordinate from the ORAS5 files. \n",
    "# (one file per day)\n",
    "start_year = 2016\n",
    "max_year = 2019\n",
    "CIOPSw_path = \"C://Users//Greig//Sync//6. SSMSP Model//Model Greig//Data//29. Water Properties//CIOPSWest//bdy_ts//\"\n",
    "test_file = \"ts_N_y2016m04d23.nc\"\n",
    "\n",
    "# Load CIOPS daily temp .nc\n",
    "def load_CIOPS_temp(f, i, j):\n",
    "    with nc.Dataset(f) as ncid:\n",
    "        print(ncid.variables)\n",
    "        time_raw = ncid.variables[\"time_counter\"][:].filled()\n",
    "        #depth = ncid.variables[\"deptht\"][:].filled()\n",
    "  \n",
    "        ' temp dimensions: time, depth, lon, lat'\n",
    "        temp = ncid.variables[\"votemper\"][:,:,i,j].filled()\n",
    "        \n",
    "    return time_raw, temp\n",
    "\n",
    "def numberOfDays(y, m):\n",
    "    leap = 0\n",
    "    if y% 400 == 0:\n",
    "        leap = 1\n",
    "    elif y % 100 == 0:\n",
    "        leap = 0\n",
    "    elif y% 4 == 0:\n",
    "         leap = 1\n",
    "    if m==2:\n",
    "        return 28 + leap\n",
    "    list = [1,3,5,7,8,10,12]\n",
    "    if m in list:\n",
    "        return 31\n",
    "    return 30\n",
    "\n",
    "time_raw, temp = load_CIOPS_temp(CIOPSw_path + test_file,2,2)"
   ]
  },
  {
   "cell_type": "code",
   "execution_count": 26,
   "metadata": {},
   "outputs": [
    {
     "data": {
      "text/plain": [
       "(24, 40)"
      ]
     },
     "execution_count": 26,
     "metadata": {},
     "output_type": "execute_result"
    }
   ],
   "source": [
    "temp.shape\n"
   ]
  },
  {
   "cell_type": "code",
   "execution_count": null,
   "metadata": {},
   "outputs": [],
   "source": [
    "fig, ax = plt.subplots(figsize = (5,5))\n",
    "viz_tools.set_aspect(ax, coords = 'map')\n",
    "\n",
    "with nc.Dataset('..//data//bathymetry//bathy_salishsea_1500m_20210406.nc') as grid:\n",
    "    viz_tools.plot_coastline(ax, grid, coords = 'map')\n",
    "\n",
    "ax.plot(lont, latt, '.k')\n",
    "ax.set_ylim(48, 49)\n",
    "ax.legend()\n",
    "ax.set_xlim(-125.5, -124)\n",
    "plt.xticks(rotation=90)"
   ]
  }
 ],
 "metadata": {
  "kernelspec": {
   "display_name": "Python 3",
   "language": "python",
   "name": "python3"
  },
  "language_info": {
   "codemirror_mode": {
    "name": "ipython",
    "version": 3
   },
   "file_extension": ".py",
   "mimetype": "text/x-python",
   "name": "python",
   "nbconvert_exporter": "python",
   "pygments_lexer": "ipython3",
   "version": "3.7.4"
  }
 },
 "nbformat": 4,
 "nbformat_minor": 2
}
