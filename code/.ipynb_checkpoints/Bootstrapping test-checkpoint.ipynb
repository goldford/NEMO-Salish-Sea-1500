{
 "cells": [
  {
   "cell_type": "code",
   "execution_count": 1,
   "id": "09c12fac",
   "metadata": {},
   "outputs": [
    {
     "name": "stderr",
     "output_type": "stream",
     "text": [
      "<frozen importlib._bootstrap>:228: RuntimeWarning: scipy._lib.messagestream.MessageStream size changed, may indicate binary incompatibility. Expected 56 from C header, got 64 from PyObject\n"
     ]
    },
    {
     "name": "stdout",
     "output_type": "stream",
     "text": [
      "Original slope: 2.97\n",
      "95% Confidence Interval: 2.90 to 3.04\n",
      "Is the trend significant at the 95% level? Yes\n"
     ]
    }
   ],
   "source": [
    "import numpy as np\n",
    "import pandas as pd\n",
    "from sklearn.linear_model import LinearRegression\n",
    "\n",
    "# Generate sample time series data\n",
    "np.random.seed(0)\n",
    "time = np.arange(1, 101)\n",
    "values = 3 * time + np.random.normal(0, 10, size=100)\n",
    "\n",
    "# Fit linear regression to the original data\n",
    "regression = LinearRegression()\n",
    "regression.fit(time.reshape(-1, 1), values)\n",
    "\n",
    "# Function to compute the slope of the linear trend\n",
    "def compute_slope(x, y):\n",
    "    regression = LinearRegression()\n",
    "    regression.fit(x, y)\n",
    "    return regression.coef_[0]\n",
    "\n",
    "# Number of bootstrap iterations\n",
    "n_iterations = 1000\n",
    "\n",
    "# Initialize an array to store the slopes\n",
    "bootstrap_slopes = np.zeros(n_iterations)\n",
    "\n",
    "# Perform bootstrapping\n",
    "for i in range(n_iterations):\n",
    "    # Generate a bootstrap sample by resampling with replacement\n",
    "    indices = np.random.choice(len(values), len(values), replace=True)\n",
    "    bootstrap_sample = values[indices]\n",
    "    bootstrap_time = time[indices]\n",
    "\n",
    "    # Compute the slope of the linear trend on the bootstrap sample\n",
    "    bootstrap_slope = compute_slope(bootstrap_time.reshape(-1, 1), bootstrap_sample)\n",
    "    bootstrap_slopes[i] = bootstrap_slope\n",
    "\n",
    "# Compute the 95% confidence interval for the slopes\n",
    "confidence_interval = np.percentile(bootstrap_slopes, [2.5, 97.5])\n",
    "\n",
    "# Check if the original slope is within the confidence interval\n",
    "original_slope = regression.coef_[0]\n",
    "is_significant = (confidence_interval[0] <= original_slope <= confidence_interval[1])\n",
    "\n",
    "# Print the results\n",
    "print(f\"Original slope: {original_slope:.2f}\")\n",
    "print(f\"95% Confidence Interval: {confidence_interval[0]:.2f} to {confidence_interval[1]:.2f}\")\n",
    "print(f\"Is the trend significant at the 95% level? {'Yes' if is_significant else 'No'}\")"
   ]
  },
  {
   "cell_type": "code",
   "execution_count": null,
   "id": "b3b560fe",
   "metadata": {},
   "outputs": [],
   "source": []
  }
 ],
 "metadata": {
  "kernelspec": {
   "display_name": "Python 3 (ipykernel)",
   "language": "python",
   "name": "python3"
  },
  "language_info": {
   "codemirror_mode": {
    "name": "ipython",
    "version": 3
   },
   "file_extension": ".py",
   "mimetype": "text/x-python",
   "name": "python",
   "nbconvert_exporter": "python",
   "pygments_lexer": "ipython3",
   "version": "3.9.13"
  }
 },
 "nbformat": 4,
 "nbformat_minor": 5
}
