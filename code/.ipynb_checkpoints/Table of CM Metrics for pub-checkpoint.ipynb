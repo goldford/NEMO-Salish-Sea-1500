{
 "cells": [
  {
   "cell_type": "code",
   "execution_count": 31,
   "id": "f1c8243e",
   "metadata": {},
   "outputs": [],
   "source": [
    "# get the lats and lons, id's of current meter instruments \n",
    "# export some stats for eval of currents (not all tidal related stats though)\n",
    "# extracted by pyap from 'class 4' data output from analyze.py\n",
    "\n",
    "# created by G Oldford Aug 2023\n",
    "\n",
    "import pickle\n",
    "import os\n",
    "import csv\n",
    "\n",
    "cm_p = 'D:/temp_nemo/RUN216/PROCESS/'\n",
    "cm_f = 'CM_class4_SalishSea1500-RUN216_depth-below-surface.pickle'\n",
    "\n",
    "out_p = '../data/evaluation/'\n",
    "out_f = 'cm_locations.csv'\n",
    "\n",
    "cm_class4 = pickle.load(open(os.path.join(cm_p,cm_f), 'rb'))\n",
    "\n",
    "\n",
    "\n",
    "for meter in cm_class4.keys():\n",
    "    print(meter)\n",
    "    for depth in cm_class4[meter].keys():\n",
    "        lon = cm_class4[meter][depth]['total']['location'][0]\n",
    "        lat = cm_class4[meter][depth]['total']['location'][1]\n",
    "        print(lon)\n",
    "        print(lat)\n",
    "        \n",
    "        # Now we'll write these values to a CSV file\n",
    "        with open(os.path.join(out_p, out_f), mode='a', newline='') as csv_file:\n",
    "            fieldnames = ['meter', 'lat', 'lon']  # Column headings\n",
    "            writer = csv.DictWriter(csv_file, fieldnames=fieldnames)\n",
    "\n",
    "            # Check if the file is empty and write the headers if needed\n",
    "            if csv_file.tell() == 0:\n",
    "                writer.writeheader()\n",
    "\n",
    "            # Write the values for the current iteration\n",
    "            writer.writerow({'meter': meter, 'lat': lat, 'lon': lon})"
   ]
  },
  {
   "cell_type": "code",
   "execution_count": 44,
   "id": "3b8a3289",
   "metadata": {},
   "outputs": [
    {
     "data": {
      "text/plain": [
       "dict_keys(['mean_obs', 'mean_mod', 'bias', 'crmse', 'rmse', 'gamma2', 'vector_correlation', 'vector_correlation_magnitude', 'vector_correlation_radians', 'vector_correlation_degrees'])"
      ]
     },
     "execution_count": 44,
     "metadata": {},
     "output_type": "execute_result"
    }
   ],
   "source": [
    "cm_class4[meter][1.600000023841858]['residual']['scores']"
   ]
  },
  {
   "cell_type": "code",
   "execution_count": 69,
   "id": "63770089",
   "metadata": {
    "scrolled": false
   },
   "outputs": [
    {
     "data": {
      "text/plain": [
       "(0.24298712839489592-0.10302862787033484j)"
      ]
     },
     "execution_count": 69,
     "metadata": {},
     "output_type": "execute_result"
    }
   ],
   "source": [
    "cm_class4[meter][111.0]['residual']['scores']['vector_correlation']"
   ]
  },
  {
   "cell_type": "code",
   "execution_count": 53,
   "id": "0e25aa67",
   "metadata": {
    "scrolled": false
   },
   "outputs": [
    {
     "data": {
      "text/plain": [
       "dict_keys([111.0])"
      ]
     },
     "execution_count": 53,
     "metadata": {},
     "output_type": "execute_result"
    }
   ],
   "source": [
    "meter = 'AS04_CM_20180327-1822_20181029-1607_111m_noNaN'\n",
    "cm_class4[meter].keys()"
   ]
  },
  {
   "cell_type": "code",
   "execution_count": 150,
   "id": "2c4d1f84",
   "metadata": {
    "scrolled": false
   },
   "outputs": [
    {
     "name": "stdout",
     "output_type": "stream",
     "text": [
      "note this does not export all stats related to tides\n",
      "AS04\n",
      "depth:  111.0\n",
      "total:  0.91\n",
      "non tidal:  0.24\n",
      "tidal:  0.96\n"
     ]
    },
    {
     "name": "stderr",
     "output_type": "stream",
     "text": [
      "C:\\Users\\Greig\\AppData\\Local\\Temp\\ipykernel_13608\\762603251.py:62: DeprecationWarning: The Python built-in `round` is deprecated for complex scalars, and will raise a `TypeError` in a future release. Use `np.round` or `scalar.round` instead.\n",
      "  'CCE': round(cce, 2),\n",
      "C:\\Users\\Greig\\AppData\\Local\\Temp\\ipykernel_13608\\762603251.py:70: DeprecationWarning: The Python built-in `round` is deprecated for complex scalars, and will raise a `TypeError` in a future release. Use `np.round` or `scalar.round` instead.\n",
      "  'Complex Bias': round(bias,2),\n",
      "C:\\Users\\Greig\\AppData\\Local\\Temp\\ipykernel_13608\\762603251.py:108: DeprecationWarning: The Python built-in `round` is deprecated for complex scalars, and will raise a `TypeError` in a future release. Use `np.round` or `scalar.round` instead.\n",
      "  'CCE': round(cce_nt, 2),\n",
      "C:\\Users\\Greig\\AppData\\Local\\Temp\\ipykernel_13608\\762603251.py:116: DeprecationWarning: The Python built-in `round` is deprecated for complex scalars, and will raise a `TypeError` in a future release. Use `np.round` or `scalar.round` instead.\n",
      "  'Complex Bias': round(bias_nt,2),\n",
      "C:\\Users\\Greig\\AppData\\Local\\Temp\\ipykernel_13608\\762603251.py:150: DeprecationWarning: The Python built-in `round` is deprecated for complex scalars, and will raise a `TypeError` in a future release. Use `np.round` or `scalar.round` instead.\n",
      "  'CCE': round(cce_t, 2),\n"
     ]
    },
    {
     "ename": "ValueError",
     "evalue": "dict contains fields not in fieldnames: 'Bias'",
     "output_type": "error",
     "traceback": [
      "\u001b[1;31m---------------------------------------------------------------------------\u001b[0m",
      "\u001b[1;31mValueError\u001b[0m                                Traceback (most recent call last)",
      "\u001b[1;32m~\\AppData\\Local\\Temp\\ipykernel_13608\\762603251.py\u001b[0m in \u001b[0;36m<module>\u001b[1;34m\u001b[0m\n\u001b[0;32m    140\u001b[0m                 \u001b[0mmean_spd_tid_obs\u001b[0m \u001b[1;33m=\u001b[0m \u001b[0mmean_spd_tid_mod\u001b[0m \u001b[1;33m=\u001b[0m \u001b[0mmean_dir_tid_obs\u001b[0m \u001b[1;33m=\u001b[0m \u001b[0mmean_dir_tid_mod\u001b[0m \u001b[1;33m=\u001b[0m \u001b[1;33m-\u001b[0m\u001b[1;36m999.0\u001b[0m\u001b[1;33m\u001b[0m\u001b[1;33m\u001b[0m\u001b[0m\n\u001b[0;32m    141\u001b[0m \u001b[1;33m\u001b[0m\u001b[0m\n\u001b[1;32m--> 142\u001b[1;33m             writer.writerow({\n\u001b[0m\u001b[0;32m    143\u001b[0m                     \u001b[1;34m'Meter'\u001b[0m\u001b[1;33m:\u001b[0m \u001b[0mmeter\u001b[0m\u001b[1;33m.\u001b[0m\u001b[0msplit\u001b[0m\u001b[1;33m(\u001b[0m\u001b[1;34m'_'\u001b[0m\u001b[1;33m,\u001b[0m \u001b[1;36m1\u001b[0m\u001b[1;33m)\u001b[0m\u001b[1;33m[\u001b[0m\u001b[1;36m0\u001b[0m\u001b[1;33m]\u001b[0m\u001b[1;33m,\u001b[0m\u001b[1;33m\u001b[0m\u001b[1;33m\u001b[0m\u001b[0m\n\u001b[0;32m    144\u001b[0m                     \u001b[1;34m'Depth'\u001b[0m\u001b[1;33m:\u001b[0m \u001b[0mround\u001b[0m\u001b[1;33m(\u001b[0m\u001b[0mdepth\u001b[0m\u001b[1;33m,\u001b[0m \u001b[1;36m2\u001b[0m\u001b[1;33m)\u001b[0m\u001b[1;33m,\u001b[0m\u001b[1;33m\u001b[0m\u001b[1;33m\u001b[0m\u001b[0m\n",
      "\u001b[1;32m~\\anaconda3\\lib\\csv.py\u001b[0m in \u001b[0;36mwriterow\u001b[1;34m(self, rowdict)\u001b[0m\n\u001b[0;32m    152\u001b[0m \u001b[1;33m\u001b[0m\u001b[0m\n\u001b[0;32m    153\u001b[0m     \u001b[1;32mdef\u001b[0m \u001b[0mwriterow\u001b[0m\u001b[1;33m(\u001b[0m\u001b[0mself\u001b[0m\u001b[1;33m,\u001b[0m \u001b[0mrowdict\u001b[0m\u001b[1;33m)\u001b[0m\u001b[1;33m:\u001b[0m\u001b[1;33m\u001b[0m\u001b[1;33m\u001b[0m\u001b[0m\n\u001b[1;32m--> 154\u001b[1;33m         \u001b[1;32mreturn\u001b[0m \u001b[0mself\u001b[0m\u001b[1;33m.\u001b[0m\u001b[0mwriter\u001b[0m\u001b[1;33m.\u001b[0m\u001b[0mwriterow\u001b[0m\u001b[1;33m(\u001b[0m\u001b[0mself\u001b[0m\u001b[1;33m.\u001b[0m\u001b[0m_dict_to_list\u001b[0m\u001b[1;33m(\u001b[0m\u001b[0mrowdict\u001b[0m\u001b[1;33m)\u001b[0m\u001b[1;33m)\u001b[0m\u001b[1;33m\u001b[0m\u001b[1;33m\u001b[0m\u001b[0m\n\u001b[0m\u001b[0;32m    155\u001b[0m \u001b[1;33m\u001b[0m\u001b[0m\n\u001b[0;32m    156\u001b[0m     \u001b[1;32mdef\u001b[0m \u001b[0mwriterows\u001b[0m\u001b[1;33m(\u001b[0m\u001b[0mself\u001b[0m\u001b[1;33m,\u001b[0m \u001b[0mrowdicts\u001b[0m\u001b[1;33m)\u001b[0m\u001b[1;33m:\u001b[0m\u001b[1;33m\u001b[0m\u001b[1;33m\u001b[0m\u001b[0m\n",
      "\u001b[1;32m~\\anaconda3\\lib\\csv.py\u001b[0m in \u001b[0;36m_dict_to_list\u001b[1;34m(self, rowdict)\u001b[0m\n\u001b[0;32m    147\u001b[0m             \u001b[0mwrong_fields\u001b[0m \u001b[1;33m=\u001b[0m \u001b[0mrowdict\u001b[0m\u001b[1;33m.\u001b[0m\u001b[0mkeys\u001b[0m\u001b[1;33m(\u001b[0m\u001b[1;33m)\u001b[0m \u001b[1;33m-\u001b[0m \u001b[0mself\u001b[0m\u001b[1;33m.\u001b[0m\u001b[0mfieldnames\u001b[0m\u001b[1;33m\u001b[0m\u001b[1;33m\u001b[0m\u001b[0m\n\u001b[0;32m    148\u001b[0m             \u001b[1;32mif\u001b[0m \u001b[0mwrong_fields\u001b[0m\u001b[1;33m:\u001b[0m\u001b[1;33m\u001b[0m\u001b[1;33m\u001b[0m\u001b[0m\n\u001b[1;32m--> 149\u001b[1;33m                 raise ValueError(\"dict contains fields not in fieldnames: \"\n\u001b[0m\u001b[0;32m    150\u001b[0m                                  + \", \".join([repr(x) for x in wrong_fields]))\n\u001b[0;32m    151\u001b[0m         \u001b[1;32mreturn\u001b[0m \u001b[1;33m(\u001b[0m\u001b[0mrowdict\u001b[0m\u001b[1;33m.\u001b[0m\u001b[0mget\u001b[0m\u001b[1;33m(\u001b[0m\u001b[0mkey\u001b[0m\u001b[1;33m,\u001b[0m \u001b[0mself\u001b[0m\u001b[1;33m.\u001b[0m\u001b[0mrestval\u001b[0m\u001b[1;33m)\u001b[0m \u001b[1;32mfor\u001b[0m \u001b[0mkey\u001b[0m \u001b[1;32min\u001b[0m \u001b[0mself\u001b[0m\u001b[1;33m.\u001b[0m\u001b[0mfieldnames\u001b[0m\u001b[1;33m)\u001b[0m\u001b[1;33m\u001b[0m\u001b[1;33m\u001b[0m\u001b[0m\n",
      "\u001b[1;31mValueError\u001b[0m: dict contains fields not in fieldnames: 'Bias'"
     ]
    }
   ],
   "source": [
    "out_p = '../data/evaluation/'\n",
    "out_f = 'cm_pyap_stats.csv'\n",
    "\n",
    "print(\"note this does not export all stats related to tides\")\n",
    "\n",
    "with open(os.path.join(out_p, out_f), 'w', newline='') as csvfile:\n",
    "    fieldnames = ['Meter', 'Depth', 'Type', \n",
    "                  'Date Start', 'Date End',\n",
    "                  'Latitude', 'Longitude',\n",
    "                  'CCE', 'CCE Mag.', 'CCE Deg.', \n",
    "                  'Mean Mag. Obs. (m/s)', 'Mean Dir. Obs. (deg.)', \n",
    "                  'Mean Mag. Mod. (m/s)', 'Mean Dir. Mod. (deg.)',\n",
    "                  'Simple Bias (m/s)', 'Complex Bias', 'RMSE', 'CRMSE'\n",
    "                 ]\n",
    "    writer = csv.DictWriter(csvfile, fieldnames=fieldnames)\n",
    "\n",
    "    writer.writeheader()\n",
    "\n",
    "    for meter in cm_class4.keys():\n",
    "        print(meter.split('_', 1)[0])\n",
    "        for depth in cm_class4[meter].keys():\n",
    "            print(\"depth: \", round(depth,2))\n",
    "            \n",
    "            # total \n",
    "            if not cm_class4[meter][depth]['total'] is None:\n",
    "                date_start = cm_class4[meter][depth]['total']['obs']['time'][0].strftime('%Y-%m-%d')\n",
    "                date_end = cm_class4[meter][depth]['total']['obs']['time'][-1].strftime('%Y-%m-%d')\n",
    "                \n",
    "                lon = cm_class4[meter][depth]['total']['location'][0]\n",
    "                lat = cm_class4[meter][depth]['total']['location'][1]\n",
    "                \n",
    "                cce = cm_class4[meter][depth]['total']['scores']['vector_correlation']\n",
    "                cce_mag = cm_class4[meter][depth]['total']['scores']['vector_correlation_magnitude']\n",
    "                cce_deg = cm_class4[meter][depth]['total']['scores']['vector_correlation_degrees']\n",
    "\n",
    "                mean_spd_tot_obs = cm_class4[meter][depth]['total']['means']['obs_sd']['full'][0]\n",
    "                mean_spd_tot_mod = cm_class4[meter][depth]['total']['means']['mod_sd']['full'][0]\n",
    "                mean_dir_tot_obs = cm_class4[meter][depth]['total']['means']['obs_sd']['full'][1]\n",
    "                mean_dir_tot_mod = cm_class4[meter][depth]['total']['means']['mod_sd']['full'][1]\n",
    "                \n",
    "                bias = cm_class4[meter][depth]['total']['scores']['bias']\n",
    "                rmse = cm_class4[meter][depth]['total']['scores']['rmse']\n",
    "                crmse = cm_class4[meter][depth]['total']['scores']['crmse']\n",
    "\n",
    "                print(\"total: \", round(cce_mag,2))\n",
    "            else:\n",
    "                print(\"error getting stats (total)\")\n",
    "                cce = cce_mag = cce_deg = -999.0\n",
    "                mean_spd_tot_obs = mean_spd_tot_mod = mean_dir_tot_obs = mean_dir_tot_mod = -999.0\n",
    "                bias = crmse = rmse = -999.0\n",
    "                lon = lat = -999.0\n",
    "                date_start = date_end = -999.0\n",
    "                \n",
    "            writer.writerow({\n",
    "                    'Meter': meter.split('_', 1)[0],\n",
    "                    'Depth': round(depth, 2),\n",
    "                    'Type': 'Total',\n",
    "                    'Date Start': date_start,\n",
    "                    'Date End': date_end,\n",
    "                    'Longitude': lon,\n",
    "                    'Latitude': lat,\n",
    "                    'CCE': round(cce, 2),\n",
    "                    'CCE Mag.': round(cce_mag, 2),\n",
    "                    'CCE Deg.': round(cce_deg, 2),\n",
    "                    'Mean Mag. Obs. (m/s)': round(mean_spd_tot_obs,2),\n",
    "                    'Mean Dir. Obs. (deg.)': round(mean_dir_tot_obs,2),\n",
    "                    'Mean Mag. Mod. (m/s)': round(mean_spd_tot_mod,2),\n",
    "                    'Mean Dir. Mod. (deg.)': round(mean_dir_tot_mod,2),\n",
    "                    'Simple Bias (m/s)': round((mean_spd_tot_mod - mean_spd_tot_obs),2),\n",
    "                    'Complex Bias': round(bias,2),\n",
    "                    'RMSE': round(rmse,2),\n",
    "                    'CRMSE': round(crmse,2)\n",
    "                })\n",
    "            \n",
    "            # non tidal\n",
    "            if not cm_class4[meter][depth]['residual'] is None:\n",
    "                cce_nt = cm_class4[meter][depth]['residual']['scores']['vector_correlation']\n",
    "                cce_mag_nt = cm_class4[meter][depth]['residual']['scores']['vector_correlation_magnitude']\n",
    "                cce_deg_nt = cm_class4[meter][depth]['residual']['scores']['vector_correlation_degrees']\n",
    "\n",
    "                mean_spd_nt_obs = cm_class4[meter][depth]['residual']['means']['obs_sd']['full'][0]\n",
    "                mean_spd_nt_mod = cm_class4[meter][depth]['residual']['means']['mod_sd']['full'][0]\n",
    "                mean_dir_nt_obs = cm_class4[meter][depth]['residual']['means']['obs_sd']['full'][1]\n",
    "                mean_dir_nt_mod = cm_class4[meter][depth]['residual']['means']['mod_sd']['full'][1]\n",
    "                \n",
    "                bias_nt = cm_class4[meter][depth]['residual']['scores']['bias']\n",
    "                rmse_nt = cm_class4[meter][depth]['residual']['scores']['rmse']\n",
    "                crmse_nt = cm_class4[meter][depth]['residual']['scores']['crmse']\n",
    "\n",
    "                print(\"non tidal: \", round(cce_mag_nt,2))\n",
    "    #             print(cce_nt)\n",
    "    #             print(round(cce_mag_nt,2))\n",
    "    #             print(cce_deg_nt)\n",
    "            else:\n",
    "                print(\"error getting stats (residual)\")\n",
    "                cce_nt = cce_mag_nt = cce_deg_nt = -999.0\n",
    "                mean_spd_nt_obs = mean_spd_nt_mod = mean_dir_tid_obs = mean_dir_tid_mod = -999.0\n",
    "                bias_nt = rmse_nt = crmse_nt = -999.0\n",
    "\n",
    "            writer.writerow({\n",
    "                    'Meter': meter.split('_', 1)[0],\n",
    "                    'Depth': round(depth, 2),\n",
    "                    'Type': 'Non-Tidal',\n",
    "                    'Date Start': date_start,\n",
    "                    'Date End': date_end,\n",
    "                    'Longitude': lon,\n",
    "                    'Latitude': lat,\n",
    "                    'CCE': round(cce_nt, 2),\n",
    "                    'CCE Mag.': round(cce_mag_nt, 2),\n",
    "                    'CCE Deg.': round(cce_deg_nt, 2),\n",
    "                    'Mean Mag. Obs. (m/s)': round(mean_spd_nt_obs,2),\n",
    "                    'Mean Dir. Obs. (deg.)': round(mean_dir_nt_obs,2),\n",
    "                    'Mean Mag. Mod. (m/s)': round(mean_spd_nt_mod,2),\n",
    "                    'Mean Dir. Mod. (deg.)': round(mean_dir_nt_mod,2),\n",
    "                    'Simple Bias (m/s)': round((mean_spd_nt_mod-mean_spd_nt_obs),2),\n",
    "                    'Complex Bias': round(bias_nt,2),\n",
    "                    'RMSE': round(rmse_nt,2),\n",
    "                    'CRMSE': round(crmse_nt,2)\n",
    "                })\n",
    "                \n",
    "            # tidal\n",
    "            if not cm_class4[meter][depth]['tidal'] is None:\n",
    "                cce_t = cm_class4[meter][depth]['tidal']['scores']['vector_correlation']\n",
    "                cce_mag_t = cm_class4[meter][depth]['tidal']['scores']['vector_correlation_magnitude']\n",
    "                cce_deg_t = cm_class4[meter][depth]['tidal']['scores']['vector_correlation_degrees']\n",
    "\n",
    "                # no means for tidal\n",
    "#                 mean_spd_tid_obs = cm_class4[meter][depth]['tidal']['means']['obs_sd']['full'][0]\n",
    "#                 mean_spd_tid_mod = cm_class4[meter][depth]['tidal']['means']['mod_sd']['full'][0]\n",
    "#                 mean_dir_tid_obs = cm_class4[meter][depth]['tidal']['means']['obs_sd']['full'][1]\n",
    "#                 mean_dir_tid_mod = cm_class4[meter][depth]['tidal']['means']['mod_sd']['full'][1]        \n",
    "\n",
    "                print(\"tidal: \", round(cce_mag_t,2))\n",
    "    #             print(cce_nt)\n",
    "    #             print(round(cce_mag_nt,2))\n",
    "    #             print(cce_deg_nt)\n",
    "            else:\n",
    "                print(\"error getting stats (tidal)\")\n",
    "                cce_t = cce_mag_t = cce_deg_t = -999.0\n",
    "                mean_spd_tid_obs = mean_spd_tid_mod = mean_dir_tid_obs = mean_dir_tid_mod = -999.0\n",
    "\n",
    "            writer.writerow({\n",
    "                    'Meter': meter.split('_', 1)[0],\n",
    "                    'Depth': round(depth, 2),\n",
    "                    'Type': 'Tidal',\n",
    "                    'Date Start': date_start,\n",
    "                    'Date End': date_end,\n",
    "                    'Longitude': lon,\n",
    "                    'Latitude': lat,\n",
    "                    'CCE': round(cce_t, 2),\n",
    "                    'CCE Mag.': round(cce_mag_t, 2),\n",
    "                    'CCE Deg.': round(cce_deg_t, 2),\n",
    "                    'Mean Mag. Obs. (m/s)': -999.0,\n",
    "                    'Mean Dir. Obs. (deg.)': -999.0,\n",
    "                    'Mean Mag. Mod. (m/s)': -999.0,\n",
    "                    'Mean Dir. Mod. (deg.)': -999.0,\n",
    "                    'Simple Bias (m/s)': -999.0,\n",
    "                    'Complex Bias': -999.0,\n",
    "                    'RMSE': -999.0,\n",
    "                    'CRMSE': -999.0\n",
    "                })\n",
    "                \n",
    "            \n",
    "\n",
    "        print(\"\")"
   ]
  },
  {
   "cell_type": "code",
   "execution_count": 143,
   "id": "b14e61bb",
   "metadata": {},
   "outputs": [],
   "source": [
    "# scraps below"
   ]
  },
  {
   "cell_type": "code",
   "execution_count": 133,
   "id": "88b423ee",
   "metadata": {},
   "outputs": [
    {
     "data": {
      "text/plain": [
       "dict_keys(['where_referenced', 'where_eval', 'bathy', 'tidal', 'residual', 'total'])"
      ]
     },
     "execution_count": 133,
     "metadata": {},
     "output_type": "execute_result"
    }
   ],
   "source": [
    "cm_class4[meter][depth].keys()"
   ]
  },
  {
   "cell_type": "code",
   "execution_count": 139,
   "id": "1f8e629d",
   "metadata": {
    "scrolled": false
   },
   "outputs": [
    {
     "data": {
      "text/plain": [
       "'2018-09-16'"
      ]
     },
     "execution_count": 139,
     "metadata": {},
     "output_type": "execute_result"
    }
   ],
   "source": [
    "cm_class4[meter][depth]['total']['obs']['time'][0].strftime('%Y-%m-%d')\n",
    "# cm_class4[meter][depth]['total']['obs']['time'][-1]"
   ]
  },
  {
   "cell_type": "code",
   "execution_count": 140,
   "id": "7db9eb1b",
   "metadata": {},
   "outputs": [
    {
     "data": {
      "text/plain": [
       "'NDBC46088'"
      ]
     },
     "execution_count": 140,
     "metadata": {},
     "output_type": "execute_result"
    }
   ],
   "source": [
    "meter.split('_', 1)[0]"
   ]
  },
  {
   "cell_type": "code",
   "execution_count": 145,
   "id": "281489da",
   "metadata": {},
   "outputs": [
    {
     "data": {
      "text/plain": [
       "dict_keys(['mean_obs', 'mean_mod', 'bias', 'crmse', 'rmse', 'gamma2', 'vector_correlation', 'vector_correlation_magnitude', 'vector_correlation_radians', 'vector_correlation_degrees'])"
      ]
     },
     "execution_count": 145,
     "metadata": {},
     "output_type": "execute_result"
    }
   ],
   "source": [
    "cm_class4[meter][depth]['total']['scores'].keys()"
   ]
  },
  {
   "cell_type": "code",
   "execution_count": null,
   "id": "f11d8db3",
   "metadata": {},
   "outputs": [],
   "source": []
  }
 ],
 "metadata": {
  "kernelspec": {
   "display_name": "Python 3 (ipykernel)",
   "language": "python",
   "name": "python3"
  },
  "language_info": {
   "codemirror_mode": {
    "name": "ipython",
    "version": 3
   },
   "file_extension": ".py",
   "mimetype": "text/x-python",
   "name": "python",
   "nbconvert_exporter": "python",
   "pygments_lexer": "ipython3",
   "version": "3.9.13"
  }
 },
 "nbformat": 4,
 "nbformat_minor": 5
}
