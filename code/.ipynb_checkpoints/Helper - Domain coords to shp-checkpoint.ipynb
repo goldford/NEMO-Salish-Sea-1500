{
 "cells": [
  {
   "cell_type": "code",
   "execution_count": 26,
   "id": "88c7c024",
   "metadata": {},
   "outputs": [
    {
     "name": "stdout",
     "output_type": "stream",
     "text": [
      "Latitude and longitude data saved to: sdomains_lats_lons.csv\n"
     ]
    }
   ],
   "source": [
    "import yaml\n",
    "import os\n",
    "import csv\n",
    "\n",
    "domain_coords_p = 'D:/temp_nemo/'\n",
    "domain_coords_f = 'CTD_analysis_domain_config_template-SalishSea.yml'\n",
    "\n",
    "\n",
    "polygon_coords_all = []\n",
    "poly_names = []\n",
    "csv_rows = []\n",
    "\n",
    "# Read the polygon coordinates from a YAML file\n",
    "with open(os.path.join(domain_coords_p, domain_coords_f), 'r') as file:\n",
    "    polygon_coords = yaml.safe_load(file)\n",
    "\n",
    "# Loop through each polygon\n",
    "for polygon_name, polygon_coords_list in polygon_coords['polygon_coords'].items():\n",
    "    \n",
    "    if polygon_name != 'depth':\n",
    "        # Create the polygon shape\n",
    "        polygon_coords_all.append(polygon_coords_list)\n",
    "        poly_names.append(polygon_name)\n",
    "        for coord in polygon_coords_list:\n",
    "            csv_rows.append([polygon_name, coord[0], coord[1]])\n",
    "\n",
    "# Create a CSV file to store latitudes and longitudes\n",
    "csv_file = 'sdomains_lats_lons.csv'\n",
    "\n",
    "# Write the latitudes and longitudes to the CSV file\n",
    "with open(os.path.join(domain_coords_p,csv_file), 'w', newline='') as file:\n",
    "    writer = csv.writer(file)\n",
    "    writer.writerow(['sdomain', 'lat','lon'])\n",
    "    writer.writerows(csv_rows)\n",
    "\n",
    "print(f\"Latitude and longitude data saved to: {csv_file}\")\n"
   ]
  },
  {
   "cell_type": "code",
   "execution_count": null,
   "id": "ae0ed810",
   "metadata": {},
   "outputs": [],
   "source": []
  },
  {
   "cell_type": "code",
   "execution_count": 27,
   "id": "04d1f741",
   "metadata": {},
   "outputs": [],
   "source": [
    "# # couldn't get shapefile or shapely to work to export to polygon shapefile\n",
    "# from shapely import geometry\n",
    "# poly1 = geometry.Polygon([[p[0], p[1]] for p in polygon_coords_all[0]])\n",
    "# print(poly1.wkt)  # prints: 'POLYGON ((0 0, 1 0, 1 1, 0 1, 0 0))'\n"
   ]
  },
  {
   "cell_type": "code",
   "execution_count": null,
   "id": "43ad3446",
   "metadata": {},
   "outputs": [],
   "source": []
  },
  {
   "cell_type": "code",
   "execution_count": null,
   "id": "46dda520",
   "metadata": {},
   "outputs": [],
   "source": []
  }
 ],
 "metadata": {
  "kernelspec": {
   "display_name": "Python 3 (ipykernel)",
   "language": "python",
   "name": "python3"
  },
  "language_info": {
   "codemirror_mode": {
    "name": "ipython",
    "version": 3
   },
   "file_extension": ".py",
   "mimetype": "text/x-python",
   "name": "python",
   "nbconvert_exporter": "python",
   "pygments_lexer": "ipython3",
   "version": "3.11.3"
  }
 },
 "nbformat": 4,
 "nbformat_minor": 5
}
