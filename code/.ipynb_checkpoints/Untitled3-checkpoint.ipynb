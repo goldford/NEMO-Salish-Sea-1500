{
 "cells": [
  {
   "cell_type": "code",
   "execution_count": 1,
   "id": "c57bd026",
   "metadata": {},
   "outputs": [],
   "source": [
    "# https://github.com/SalishSeaCast/analysis-michael/blob/master/notebooks/AspectDemo.ipynb\n",
    "%matplotlib notebook\n",
    "import matplotlib.pyplot as plt\n",
    "import netCDF4 as nc\n",
    "import os\n",
    "import numpy as np\n",
    "import numpy.ma as ma"
   ]
  },
  {
   "cell_type": "code",
   "execution_count": 5,
   "id": "0632e0b7",
   "metadata": {},
   "outputs": [
    {
     "ename": "ModuleNotFoundError",
     "evalue": "No module named 'cmocean'",
     "output_type": "error",
     "traceback": [
      "\u001b[1;31m---------------------------------------------------------------------------\u001b[0m",
      "\u001b[1;31mModuleNotFoundError\u001b[0m                       Traceback (most recent call last)",
      "Cell \u001b[1;32mIn[5], line 6\u001b[0m\n\u001b[0;32m      4\u001b[0m \u001b[38;5;28;01mfrom\u001b[39;00m \u001b[38;5;21;01mmpl_toolkits\u001b[39;00m\u001b[38;5;21;01m.\u001b[39;00m\u001b[38;5;21;01maxisartist\u001b[39;00m\u001b[38;5;21;01m.\u001b[39;00m\u001b[38;5;21;01mgrid_helper_curvelinear\u001b[39;00m \u001b[38;5;28;01mimport\u001b[39;00m GridHelperCurveLinear\n\u001b[0;32m      5\u001b[0m \u001b[38;5;28;01mimport\u001b[39;00m \u001b[38;5;21;01mmatplotlib\u001b[39;00m\u001b[38;5;21;01m.\u001b[39;00m\u001b[38;5;21;01mtransforms\u001b[39;00m \u001b[38;5;28;01mas\u001b[39;00m \u001b[38;5;21;01mmt\u001b[39;00m\n\u001b[1;32m----> 6\u001b[0m \u001b[38;5;28;01mimport\u001b[39;00m \u001b[38;5;21;01mcmocean\u001b[39;00m\u001b[38;5;21;01m.\u001b[39;00m\u001b[38;5;21;01mcm\u001b[39;00m \u001b[38;5;28;01mas\u001b[39;00m \u001b[38;5;21;01mcm\u001b[39;00m\n",
      "\u001b[1;31mModuleNotFoundError\u001b[0m: No module named 'cmocean'"
     ]
    }
   ],
   "source": [
    "# attempt at rotated nice looking map of LH, SST buoys\n",
    "#from mpl_toolkits.axisartist import SubplotHost, ParasiteAxesAuxTrans #dep - GO\n",
    "from mpl_toolkits.axes_grid1.parasite_axes import ParasiteAxesBase\n",
    "from mpl_toolkits.axisartist.grid_helper_curvelinear import GridHelperCurveLinear\n",
    "import matplotlib.transforms as mt\n"
   ]
  },
  {
   "cell_type": "code",
   "execution_count": null,
   "id": "32374e1d",
   "metadata": {},
   "outputs": [],
   "source": [
    "import sys\n",
    "!conda install -c conda-forge --yes --prefix {sys.prefix} cmocean"
   ]
  },
  {
   "cell_type": "code",
   "execution_count": null,
   "id": "ae7785ae",
   "metadata": {},
   "outputs": [],
   "source": []
  }
 ],
 "metadata": {
  "kernelspec": {
   "display_name": "Python 3 (ipykernel)",
   "language": "python",
   "name": "python3"
  },
  "language_info": {
   "codemirror_mode": {
    "name": "ipython",
    "version": 3
   },
   "file_extension": ".py",
   "mimetype": "text/x-python",
   "name": "python",
   "nbconvert_exporter": "python",
   "pygments_lexer": "ipython3",
   "version": "3.11.3"
  }
 },
 "nbformat": 4,
 "nbformat_minor": 5
}
