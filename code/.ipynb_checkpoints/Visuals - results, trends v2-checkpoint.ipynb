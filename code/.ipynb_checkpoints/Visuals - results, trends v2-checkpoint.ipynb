{
 "cells": [
  {
   "cell_type": "markdown",
   "id": "05731f95",
   "metadata": {},
   "source": [
    "##### Visualize Mixing Depth and PAR over full hindcast <br>\n",
    "G Oldford\n",
    "Apr 2023\n",
    "\n",
    "Purpose: generate climatological profile and visuals of anom, trends etc (maybe thalweg later)\n",
    "         from NEMO SS1500 outputs (v1: ASC clipped to ECOSPACE, v2: full NEMO domain)\n",
    "         \n",
    "Data in: NC NEMO output\n",
    "\n",
    "Code based on work by Tereza Jarnikova to generate the figs and analysis for temp, salin\n",
    "\n",
    "Notes: \n",
    "- motivation is there appears to be long-term shifts in temp, salin, mixing"
   ]
  },
  {
   "cell_type": "code",
   "execution_count": null,
   "id": "0124a859",
   "metadata": {},
   "outputs": [],
   "source": [
    "procedure: \n",
    "    glob model results (use daily) and use xarray to open\n",
    "    \n",
    "    "
   ]
  },
  {
   "cell_type": "code",
   "execution_count": null,
   "id": "53c80445",
   "metadata": {},
   "outputs": [],
   "source": []
  },
  {
   "cell_type": "code",
   "execution_count": null,
   "id": "bd69847c",
   "metadata": {},
   "outputs": [],
   "source": []
  }
 ],
 "metadata": {
  "kernelspec": {
   "display_name": "Python 3 (ipykernel)",
   "language": "python",
   "name": "python3"
  },
  "language_info": {
   "codemirror_mode": {
    "name": "ipython",
    "version": 3
   },
   "file_extension": ".py",
   "mimetype": "text/x-python",
   "name": "python",
   "nbconvert_exporter": "python",
   "pygments_lexer": "ipython3",
   "version": "3.9.13"
  }
 },
 "nbformat": 4,
 "nbformat_minor": 5
}
