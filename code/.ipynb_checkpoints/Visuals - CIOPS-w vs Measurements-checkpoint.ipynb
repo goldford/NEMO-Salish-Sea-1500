{
 "cells": [
  {
   "cell_type": "code",
   "execution_count": null,
   "metadata": {},
   "outputs": [],
   "source": [
    "# load netcdf files from CIOPS-West (one per month)\n",
    "# load netcdf files from observational data (one)\n",
    "\n",
    "# CIOPS-West:\n",
    "\n",
    "# provided by mdunphy, downloaded May 11, 2021\n",
    "# format: one netcdf file per day for hourly temp and salin\n",
    "# example file: ts_W_y2019m12d09.nc\n",
    "# stored here: C:\\Users\\Greig\\Sync\\6. SSMSP Model\\Model Greig\\Data\\29. Water Properties\\CIOPSWest\n",
    "\n",
    "# measurement / observation data: \n",
    "\n",
    "# 1/ Older IOS Moored Acoustic Dopller Current Profiler (ADCP) Profile Data \n",
    "# https://catalogue.cioospacific.ca/dataset/bodc-meds-cf-v52_ios_adcp_moorings\n",
    "# https://data.cioospacific.ca/erddap/tabledap/IOS_ADCP_Moorings.html\n",
    "# 1979 - 2019,  48.1 <= Lat >= 48.7 ,  -125.3 <= Lon >= -124.1  (Juan de Fuca)\n",
    "# Does not include salinity\n",
    "# IOS_CUR_Moorings_1979to2019.nc\n",
    "\n",
    "# 2/ IOS CTD Profiles\n",
    "# https://data.cioospacific.ca/erddap/tabledap/IOS_CTD_Profiles.html\n",
    "# https://catalogue.cioospacific.ca/dataset/ios_ctd_profiles\n",
    "# available back to 1965\n",
    "# extracted: 1975 - present, 48.1 <= Lat >= 48.7 ,  -125.3 <= Lon >= -124.1  (Juan de Fuca entrance)\n",
    "#"
   ]
  },
  {
   "cell_type": "markdown",
   "metadata": {},
   "source": [
    "## TOC: <a class=\"anchor\" id=\"top\"></a>\n",
    "* [1. IOS DATA](#section-1)\n",
    "    * [1a. Moored Acoustic Doppler Current Profiler (ADCP)](#section-1a)\n",
    "    * [1b. IOS CTD Profile](#section-1b) \n",
    "    * [1c. Combine IOS ADCP & CTD Data](#section-1c) \n",
    "* [2. CIOPS Data](#section-2) "
   ]
  },
  {
   "cell_type": "code",
   "execution_count": 6,
   "metadata": {},
   "outputs": [],
   "source": [
    "%matplotlib notebook\n",
    "import netCDF4 as nc\n",
    "import pandas as pd\n",
    "import numpy as np\n",
    "import matplotlib.pyplot as plt\n",
    "import netCDF4 as nc\n"
   ]
  },
  {
   "cell_type": "code",
   "execution_count": null,
   "metadata": {},
   "outputs": [],
   "source": []
  },
  {
   "cell_type": "code",
   "execution_count": 7,
   "metadata": {},
   "outputs": [
    {
     "ename": "FileNotFoundError",
     "evalue": "[Errno 2] No such file or directory: b'C://Users//Greig//Sync//6. SSMSP Model//Model Greig//Data//29. Water Properties//CIOPSWest//bdy_ts//'",
     "output_type": "error",
     "traceback": [
      "\u001b[1;31m---------------------------------------------------------------------------\u001b[0m",
      "\u001b[1;31mFileNotFoundError\u001b[0m                         Traceback (most recent call last)",
      "\u001b[1;32m<ipython-input-7-b3e8629a17ed>\u001b[0m in \u001b[0;36m<module>\u001b[1;34m\u001b[0m\n\u001b[0;32m     36\u001b[0m     \u001b[1;32mreturn\u001b[0m \u001b[1;36m30\u001b[0m\u001b[1;33m\u001b[0m\u001b[1;33m\u001b[0m\u001b[0m\n\u001b[0;32m     37\u001b[0m \u001b[1;33m\u001b[0m\u001b[0m\n\u001b[1;32m---> 38\u001b[1;33m \u001b[0mprint\u001b[0m\u001b[1;33m(\u001b[0m\u001b[0mload_CIOPS_temp\u001b[0m\u001b[1;33m(\u001b[0m\u001b[0mCIOPSw_path\u001b[0m\u001b[1;33m,\u001b[0m\u001b[1;36m2\u001b[0m\u001b[1;33m,\u001b[0m\u001b[1;36m10\u001b[0m\u001b[1;33m)\u001b[0m\u001b[1;33m)\u001b[0m\u001b[1;33m\u001b[0m\u001b[1;33m\u001b[0m\u001b[0m\n\u001b[0m",
      "\u001b[1;32m<ipython-input-7-b3e8629a17ed>\u001b[0m in \u001b[0;36mload_CIOPS_temp\u001b[1;34m(f, i, j)\u001b[0m\n\u001b[0;32m      8\u001b[0m \u001b[1;31m# Load CIOPS daily temp .nc\u001b[0m\u001b[1;33m\u001b[0m\u001b[1;33m\u001b[0m\u001b[1;33m\u001b[0m\u001b[0m\n\u001b[0;32m      9\u001b[0m \u001b[1;32mdef\u001b[0m \u001b[0mload_CIOPS_temp\u001b[0m\u001b[1;33m(\u001b[0m\u001b[0mf\u001b[0m\u001b[1;33m,\u001b[0m \u001b[0mi\u001b[0m\u001b[1;33m,\u001b[0m \u001b[0mj\u001b[0m\u001b[1;33m)\u001b[0m\u001b[1;33m:\u001b[0m\u001b[1;33m\u001b[0m\u001b[1;33m\u001b[0m\u001b[0m\n\u001b[1;32m---> 10\u001b[1;33m     \u001b[1;32mwith\u001b[0m \u001b[0mnc\u001b[0m\u001b[1;33m.\u001b[0m\u001b[0mDataset\u001b[0m\u001b[1;33m(\u001b[0m\u001b[0mf\u001b[0m\u001b[1;33m)\u001b[0m \u001b[1;32mas\u001b[0m \u001b[0mncid\u001b[0m\u001b[1;33m:\u001b[0m\u001b[1;33m\u001b[0m\u001b[1;33m\u001b[0m\u001b[0m\n\u001b[0m\u001b[0;32m     11\u001b[0m         \u001b[0mprint\u001b[0m\u001b[1;33m(\u001b[0m\u001b[0mncid\u001b[0m\u001b[1;33m.\u001b[0m\u001b[0mvariables\u001b[0m\u001b[1;33m)\u001b[0m\u001b[1;33m\u001b[0m\u001b[1;33m\u001b[0m\u001b[0m\n\u001b[0;32m     12\u001b[0m \u001b[1;33m\u001b[0m\u001b[0m\n",
      "\u001b[1;32mnetCDF4\\_netCDF4.pyx\u001b[0m in \u001b[0;36mnetCDF4._netCDF4.Dataset.__init__\u001b[1;34m()\u001b[0m\n",
      "\u001b[1;32mnetCDF4\\_netCDF4.pyx\u001b[0m in \u001b[0;36mnetCDF4._netCDF4._ensure_nc_success\u001b[1;34m()\u001b[0m\n",
      "\u001b[1;31mFileNotFoundError\u001b[0m: [Errno 2] No such file or directory: b'C://Users//Greig//Sync//6. SSMSP Model//Model Greig//Data//29. Water Properties//CIOPSWest//bdy_ts//'"
     ]
    }
   ],
   "source": [
    "########################### CIOPSw Data ##############################\n",
    "# extract temp. and salin. for a coordinate from the ORAS5 files. \n",
    "# (one file per day)\n",
    "start_year = 2016\n",
    "max_year = 2019\n",
    "CIOPSw_path = \"C://Users//Greig//Sync//6. SSMSP Model//Model Greig//Data//29. Water Properties//CIOPSWest//bdy_ts//\"\n",
    "test_file = \n",
    "\n",
    "# Load CIOPS daily temp .nc\n",
    "def load_CIOPS_temp(f, i, j):\n",
    "    with nc.Dataset(f) as ncid:\n",
    "        print(ncid.variables)\n",
    "        \n",
    "#         x = ncid.variables[\"nav_lat\"][:,:].filled()\n",
    "#         y = ncid.variables[\"nav_lon\"][:,:].filled()\n",
    "#         time_raw = ncid.variables[\"time_counter\"][:].filled()\n",
    "#         depth = ncid.variables[\"deptht\"][:].filled()\n",
    "  \n",
    "#         ' temp dimensions: time, depth, lon, lat'\n",
    "#         temp = ncid.variables[\"votemper\"][:,:,i,j].filled()\n",
    "        \n",
    "#     return latt, lont, time_raw, depth, temp\n",
    "\n",
    "def numberOfDays(y, m):\n",
    "    leap = 0\n",
    "    if y% 400 == 0:\n",
    "        leap = 1\n",
    "    elif y % 100 == 0:\n",
    "        leap = 0\n",
    "    elif y% 4 == 0:\n",
    "         leap = 1\n",
    "    if m==2:\n",
    "        return 28 + leap\n",
    "    list = [1,3,5,7,8,10,12]\n",
    "    if m in list:\n",
    "        return 31\n",
    "    return 30\n",
    "\n",
    "print(load_CIOPS_temp(CIOPSw_path,2,10))"
   ]
  },
  {
   "cell_type": "code",
   "execution_count": null,
   "metadata": {},
   "outputs": [],
   "source": []
  }
 ],
 "metadata": {
  "kernelspec": {
   "display_name": "Python 3",
   "language": "python",
   "name": "python3"
  },
  "language_info": {
   "codemirror_mode": {
    "name": "ipython",
    "version": 3
   },
   "file_extension": ".py",
   "mimetype": "text/x-python",
   "name": "python",
   "nbconvert_exporter": "python",
   "pygments_lexer": "ipython3",
   "version": "3.7.4"
  }
 },
 "nbformat": 4,
 "nbformat_minor": 2
}
