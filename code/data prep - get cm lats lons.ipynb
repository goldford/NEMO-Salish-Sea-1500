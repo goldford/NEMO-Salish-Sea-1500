{
 "cells": [
  {
   "cell_type": "code",
   "execution_count": 31,
   "id": "df2df360",
   "metadata": {},
   "outputs": [],
   "source": [
    "# get the lats and lons, id's of current meter instruments \n",
    "# extracted by pyap from 'class 4' \n",
    "\n",
    "# created by G Oldford Aug 2023\n",
    "\n",
    "import pickle\n",
    "import os\n",
    "import csv\n",
    "\n",
    "cm_p = 'D:/temp_nemo/RUN216/PROCESS/'\n",
    "cm_f = 'CM_class4_SalishSea1500-RUN216_depth-below-surface.pickle'\n",
    "\n",
    "out_p = '../data/evaluation/'\n",
    "out_f = 'cm_locations.csv'\n",
    "\n"
   ]
  },
  {
   "cell_type": "code",
   "execution_count": 4,
   "id": "953824ea",
   "metadata": {},
   "outputs": [
    {
     "data": {
      "text/plain": [
       "dict_keys(['AS04_CM_20160101-0037_20160415-1552_111m_noNaN', 'AS04_CM_20161027-2237_20170419-2007_111m_noNaN', 'AS04_CM_20171101-2237_20180327-1607_111m_noNaN', 'AS04_CM_20180327-1822_20181029-1607_111m_noNaN', 'AS04_CM_20181029-1737_20190529-1622_111m_noNaN', 'BDYPM_CM_20160101-0037_20160414-1637_220m_noNaN', 'BDYPM_CM_20160414-1822_20161021-2352_220m_noNaN', 'BDYPM_CM_20170418-1952_20171102-2307_220m_noNaN', 'BDYPM_CM_20171103-0137_20171128-2207_220m_noNaN', 'BDYPM_CM_20171203-1922_20180326-1737_220m_noNaN', 'BDYPM_CM_20181026-1852_20190519-1107_220m_noNaN', 'JF2C_CM_20160510-2322_20170606-2352_182m_noNaN', 'JF2C_CM_20170615-1707_20180702-0107_182m_noNaN', 'JF2C_CM_20180804-0407_20190509-1407_182m_noNaN', 'MAC_CM_20160101-0037_20160415-1807_55m_noNaN', 'MAC_CM_20160415-2052_20161027-2222_55m_noNaN', 'MAC_CM_20171101-2022_20180327-1907_55m_noNaN', 'MAC_CM_20180327-2052_20181029-1852_55m_noNaN', 'MAC_CM_20181029-2022_20190531-0007_55m_noNaN', 'Sooke_CM_2018-10_2018-11_180m', 'Sooke_CM_2018-11_2019-03_180m', 'NDBC46087_CM_20160101_20160701_1m', 'NDBC46087_CM_20160701_20160830_1m', 'NDBC46087_CM_20160830_20161017_1m', 'NDBC46087_CM_20161116_20161217_1m', 'NDBC46087_CM_20170712_20170822_1m', 'NDBC46087_CM_20170822_20171113_1m', 'NDBC46087_CM_20171113_20171220_1m', 'NDBC46087_CM_20171220_20180210_1m', 'NDBC46087_CM_20180302_20180403_1m', 'NDBC46087_CM_20180426_20180730_1m', 'NDBC46088_CM_20160101_20160701_1m', 'NDBC46088_CM_20160701_20160819_1m', 'NDBC46088_CM_20161006_20161108_1m', 'NDBC46088_CM_20161108_20161220_1m', 'NDBC46088_CM_20170113_20170310_1m', 'NDBC46088_CM_20170310_20170510_1m', 'NDBC46088_CM_20170531_20170712_1m', 'NDBC46088_CM_20170712_20170821_1m', 'NDBC46088_CM_20180224_20180811_1m', 'NDBC46088_CM_20180811_20180916_1m', 'NDBC46088_CM_20180916_20181101_1m'])"
      ]
     },
     "execution_count": 4,
     "metadata": {},
     "output_type": "execute_result"
    }
   ],
   "source": [
    "cm_class4 = pickle.load(open(os.path.join(cm_p,cm_f), 'rb'))\n"
   ]
  },
  {
   "cell_type": "code",
   "execution_count": 32,
   "id": "884acbe9",
   "metadata": {
    "scrolled": false
   },
   "outputs": [
    {
     "name": "stdout",
     "output_type": "stream",
     "text": [
      "AS04_CM_20160101-0037_20160415-1552_111m_noNaN\n",
      "-123.390915\n",
      "48.30095\n",
      "AS04_CM_20161027-2237_20170419-2007_111m_noNaN\n",
      "-123.390915\n",
      "48.30095\n",
      "AS04_CM_20171101-2237_20180327-1607_111m_noNaN\n",
      "-123.390915\n",
      "48.30095\n",
      "AS04_CM_20180327-1822_20181029-1607_111m_noNaN\n",
      "-123.390915\n",
      "48.30095\n",
      "AS04_CM_20181029-1737_20190529-1622_111m_noNaN\n",
      "-123.390915\n",
      "48.30095\n",
      "BDYPM_CM_20160101-0037_20160414-1637_220m_noNaN\n",
      "-123.03878\n",
      "48.76642\n",
      "BDYPM_CM_20160414-1822_20161021-2352_220m_noNaN\n",
      "-123.03878\n",
      "48.76642\n",
      "BDYPM_CM_20170418-1952_20171102-2307_220m_noNaN\n",
      "-123.03878\n",
      "48.76642\n",
      "BDYPM_CM_20171103-0137_20171128-2207_220m_noNaN\n",
      "-123.03878\n",
      "48.76642\n",
      "BDYPM_CM_20171203-1922_20180326-1737_220m_noNaN\n",
      "-123.03878\n",
      "48.76642\n",
      "BDYPM_CM_20181026-1852_20190519-1107_220m_noNaN\n",
      "-123.03878\n",
      "48.76642\n",
      "JF2C_CM_20160510-2322_20170606-2352_182m_noNaN\n",
      "-124.21578\n",
      "48.355976\n",
      "JF2C_CM_20170615-1707_20180702-0107_182m_noNaN\n",
      "-124.21578\n",
      "48.355976\n",
      "JF2C_CM_20180804-0407_20190509-1407_182m_noNaN\n",
      "-124.21578\n",
      "48.355976\n",
      "MAC_CM_20160101-0037_20160415-1807_55m_noNaN\n",
      "-123.408485\n",
      "48.4011\n",
      "MAC_CM_20160415-2052_20161027-2222_55m_noNaN\n",
      "-123.408485\n",
      "48.4011\n",
      "MAC_CM_20171101-2022_20180327-1907_55m_noNaN\n",
      "-123.408485\n",
      "48.4011\n",
      "MAC_CM_20180327-2052_20181029-1852_55m_noNaN\n",
      "-123.408485\n",
      "48.4011\n",
      "MAC_CM_20181029-2022_20190531-0007_55m_noNaN\n",
      "-123.408485\n",
      "48.4011\n",
      "Sooke_CM_2018-10_2018-11_180m\n",
      "-123.6538\n",
      "48.2897\n",
      "Sooke_CM_2018-11_2019-03_180m\n",
      "-123.6537\n",
      "48.2896\n",
      "NDBC46087_CM_20160101_20160701_1m\n",
      "-124.726\n",
      "48.493\n",
      "NDBC46087_CM_20160701_20160830_1m\n",
      "-124.726\n",
      "48.493\n",
      "NDBC46087_CM_20160830_20161017_1m\n",
      "-124.726\n",
      "48.493\n",
      "NDBC46087_CM_20161116_20161217_1m\n",
      "-124.726\n",
      "48.493\n",
      "NDBC46087_CM_20170712_20170822_1m\n",
      "-124.726\n",
      "48.493\n",
      "NDBC46087_CM_20170822_20171113_1m\n",
      "-124.726\n",
      "48.493\n",
      "NDBC46087_CM_20171113_20171220_1m\n",
      "-124.726\n",
      "48.493\n",
      "NDBC46087_CM_20171220_20180210_1m\n",
      "-124.726\n",
      "48.493\n",
      "NDBC46087_CM_20180302_20180403_1m\n",
      "-124.726\n",
      "48.493\n",
      "NDBC46087_CM_20180426_20180730_1m\n",
      "-124.726\n",
      "48.493\n",
      "NDBC46088_CM_20160101_20160701_1m\n",
      "-123.179\n",
      "48.332\n",
      "NDBC46088_CM_20160701_20160819_1m\n",
      "-123.179\n",
      "48.332\n",
      "NDBC46088_CM_20161006_20161108_1m\n",
      "-123.179\n",
      "48.332\n",
      "NDBC46088_CM_20161108_20161220_1m\n",
      "-123.179\n",
      "48.332\n",
      "NDBC46088_CM_20170113_20170310_1m\n",
      "-123.179\n",
      "48.332\n",
      "NDBC46088_CM_20170310_20170510_1m\n",
      "-123.179\n",
      "48.332\n",
      "NDBC46088_CM_20170531_20170712_1m\n",
      "-123.179\n",
      "48.332\n",
      "NDBC46088_CM_20170712_20170821_1m\n",
      "-123.179\n",
      "48.332\n",
      "NDBC46088_CM_20180224_20180811_1m\n",
      "-123.179\n",
      "48.332\n",
      "NDBC46088_CM_20180811_20180916_1m\n",
      "-123.179\n",
      "48.332\n",
      "NDBC46088_CM_20180916_20181101_1m\n",
      "-123.179\n",
      "48.332\n"
     ]
    }
   ],
   "source": [
    "for meter in cm_class4.keys():\n",
    "    print(meter)\n",
    "    for depth in cm_class4[meter].keys():\n",
    "        lon = cm_class4[meter][depth]['total']['location'][0]\n",
    "        lat = cm_class4[meter][depth]['total']['location'][1]\n",
    "        print(lon)\n",
    "        print(lat)\n",
    "        \n",
    "        # Now we'll write these values to a CSV file\n",
    "        with open(os.path.join(out_p, out_f), mode='a', newline='') as csv_file:\n",
    "            fieldnames = ['meter', 'lat', 'lon']  # Column headings\n",
    "            writer = csv.DictWriter(csv_file, fieldnames=fieldnames)\n",
    "\n",
    "            # Check if the file is empty and write the headers if needed\n",
    "            if csv_file.tell() == 0:\n",
    "                writer.writeheader()\n",
    "\n",
    "            # Write the values for the current iteration\n",
    "            writer.writerow({'meter': meter, 'lat': lat, 'lon': lon})"
   ]
  },
  {
   "cell_type": "code",
   "execution_count": 24,
   "id": "980986f5",
   "metadata": {
    "scrolled": false
   },
   "outputs": [
    {
     "ename": "AttributeError",
     "evalue": "'tuple' object has no attribute 'keys'",
     "output_type": "error",
     "traceback": [
      "\u001b[1;31m---------------------------------------------------------------------------\u001b[0m",
      "\u001b[1;31mAttributeError\u001b[0m                            Traceback (most recent call last)",
      "\u001b[1;32m~\\AppData\\Local\\Temp\\ipykernel_13608\\2704806767.py\u001b[0m in \u001b[0;36m<module>\u001b[1;34m\u001b[0m\n\u001b[1;32m----> 1\u001b[1;33m \u001b[0mcm_class4\u001b[0m\u001b[1;33m[\u001b[0m\u001b[0mmeter\u001b[0m\u001b[1;33m]\u001b[0m\u001b[1;33m[\u001b[0m\u001b[1;36m111.0\u001b[0m\u001b[1;33m]\u001b[0m\u001b[1;33m[\u001b[0m\u001b[1;34m'total'\u001b[0m\u001b[1;33m]\u001b[0m\u001b[1;33m[\u001b[0m\u001b[1;34m'location'\u001b[0m\u001b[1;33m]\u001b[0m\u001b[1;33m.\u001b[0m\u001b[0mkeys\u001b[0m\u001b[1;33m(\u001b[0m\u001b[1;33m)\u001b[0m\u001b[1;33m\u001b[0m\u001b[1;33m\u001b[0m\u001b[0m\n\u001b[0m",
      "\u001b[1;31mAttributeError\u001b[0m: 'tuple' object has no attribute 'keys'"
     ]
    }
   ],
   "source": [
    "cm_class4[meter][111.0]['total']['location'].keys()"
   ]
  },
  {
   "cell_type": "code",
   "execution_count": null,
   "id": "2b0ccbf0",
   "metadata": {},
   "outputs": [],
   "source": []
  }
 ],
 "metadata": {
  "kernelspec": {
   "display_name": "Python 3 (ipykernel)",
   "language": "python",
   "name": "python3"
  },
  "language_info": {
   "codemirror_mode": {
    "name": "ipython",
    "version": 3
   },
   "file_extension": ".py",
   "mimetype": "text/x-python",
   "name": "python",
   "nbconvert_exporter": "python",
   "pygments_lexer": "ipython3",
   "version": "3.9.13"
  }
 },
 "nbformat": 4,
 "nbformat_minor": 5
}
