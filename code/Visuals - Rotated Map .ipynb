{
 "cells": [
  {
   "cell_type": "code",
   "execution_count": 10,
   "id": "5720116c",
   "metadata": {},
   "outputs": [],
   "source": [
    "# Rotated Map based on code from MD\n",
    "# https://github.com/SalishSeaCast/analysis-michael/blob/master/notebooks/AspectDemo.ipynb"
   ]
  },
  {
   "cell_type": "code",
   "execution_count": 1,
   "id": "60207983",
   "metadata": {},
   "outputs": [],
   "source": [
    "%matplotlib notebook\n",
    "import matplotlib.pyplot as plt\n",
    "import netCDF4 as nc\n",
    "import os\n",
    "import numpy as np\n",
    "import numpy.ma as ma\n",
    "\n",
    "def get1(fn):\n",
    "    with nc.Dataset(fn, 'r') as f:\n",
    "        a,b,c = f.variables['Bathymetry'][:], f.variables['nav_lon'][:], f.variables['nav_lat'][:]\n",
    "    return a,b,c\n",
    "bp,lonp,latp    = get1('../data/bathymetry/bathy_salishsea_1500m_20210706.nc')\n",
    "\n",
    "with nc.Dataset('../data/mesh mask/mesh_mask_20210406.nc') as mm:\n",
    "    tmask = mm.variables['tmask'][0,0,...]\n",
    "\n",
    "def get(fn,var,k,tmask=None):\n",
    "    with nc.Dataset(fn, 'r') as ncf:\n",
    "        if len(ncf.variables[var].shape) == 4:\n",
    "            v = ncf.variables[var][0,k,...]\n",
    "        else:\n",
    "            v = ncf.variables[var][k,...]\n",
    "        if tmask is None:\n",
    "            vm = ma.masked_array(v, mask=(v==0))\n",
    "        else:\n",
    "            vm = ma.masked_array(v, mask=1-tmask)\n",
    "        print(\"range:\",np.min(vm),np.max(vm))\n",
    "        return vm"
   ]
  },
  {
   "cell_type": "code",
   "execution_count": 2,
   "id": "3339677c",
   "metadata": {
    "scrolled": false
   },
   "outputs": [
    {
     "ename": "ImportError",
     "evalue": "cannot import name 'ParasiteAxesAuxTrans' from 'mpl_toolkits.axisartist' (C:\\Users\\Greig\\anaconda3\\envs\\xcdat2\\Lib\\site-packages\\mpl_toolkits\\axisartist\\__init__.py)",
     "output_type": "error",
     "traceback": [
      "\u001b[1;31m---------------------------------------------------------------------------\u001b[0m",
      "\u001b[1;31mImportError\u001b[0m                               Traceback (most recent call last)",
      "Cell \u001b[1;32mIn[2], line 1\u001b[0m\n\u001b[1;32m----> 1\u001b[0m \u001b[38;5;28;01mfrom\u001b[39;00m \u001b[38;5;21;01mmpl_toolkits\u001b[39;00m\u001b[38;5;21;01m.\u001b[39;00m\u001b[38;5;21;01maxisartist\u001b[39;00m \u001b[38;5;28;01mimport\u001b[39;00m SubplotHost, ParasiteAxesAuxTrans \u001b[38;5;66;03m#dep - GO\u001b[39;00m\n\u001b[0;32m      2\u001b[0m \u001b[38;5;66;03m#from mpl_toolkits.axes_grid1.parasite_axes import ParasiteAxesBase\u001b[39;00m\n\u001b[0;32m      4\u001b[0m \u001b[38;5;28;01mfrom\u001b[39;00m \u001b[38;5;21;01mmpl_toolkits\u001b[39;00m\u001b[38;5;21;01m.\u001b[39;00m\u001b[38;5;21;01maxisartist\u001b[39;00m\u001b[38;5;21;01m.\u001b[39;00m\u001b[38;5;21;01mgrid_helper_curvelinear\u001b[39;00m \u001b[38;5;28;01mimport\u001b[39;00m GridHelperCurveLinear\n",
      "\u001b[1;31mImportError\u001b[0m: cannot import name 'ParasiteAxesAuxTrans' from 'mpl_toolkits.axisartist' (C:\\Users\\Greig\\anaconda3\\envs\\xcdat2\\Lib\\site-packages\\mpl_toolkits\\axisartist\\__init__.py)"
     ]
    }
   ],
   "source": [
    "from mpl_toolkits.axisartist import SubplotHost, ParasiteAxesAuxTrans #dep - GO\n",
    "#from mpl_toolkits.axes_grid1.parasite_axes import ParasiteAxesBase\n",
    "\n",
    "from mpl_toolkits.axisartist.grid_helper_curvelinear import GridHelperCurveLinear\n",
    "import matplotlib.transforms as mt\n",
    "import cmocean.cm as cm\n",
    "\n",
    "rsp  = '../nemo_results/SS1500_RUN203/SalishSea1500-RUN203_1d_grid_T_2D_y1980m07.nc'\n",
    "cmap = plt.get_cmap(cm.haline)\n",
    "cmap.set_bad('burlywood')\n",
    "c1,c2 = 22,32\n",
    "var, k = 'mldkz5', 0\n",
    "ap = get(rsp,var,k,tmask)\n",
    "\n",
    "\n",
    "fig = plt.figure(figsize=(12, 10))\n",
    "fig.clf()\n",
    "\n",
    "cmlat=np.cos(np.radians(np.mean(latp)))            # cosine of mean latitude\n",
    "tr = mt.Affine2D().scale(cmlat,1).rotate_deg(-29)  # scale to handle lat/lon aspect ratio at this latitude & rotate -29deg\n",
    "grid_helper = GridHelperCurveLinear(tr)\n",
    "ax1 = SubplotHost(fig, 1, 2, 1, grid_helper=grid_helper)\n",
    "\n",
    "# make ticklabels of right and top axis visible.\n",
    "ax1.axis[\"right\"].major_ticklabels.set_visible(True)\n",
    "ax1.axis[\"top\"].major_ticklabels.set_visible(True)\n",
    "fig.add_subplot(ax1)\n",
    "\n",
    "# A parasite axes with given transform\n",
    "ax2 = ParasiteAxesAuxTrans(ax1, tr, \"equal\") #deprecated\n",
    "#ax2 = AxesParasiteParasiteAuxTrans(ax1, aux_transform=tr) # GO try 1\n",
    "#ax2 = ParasiteAxesBase(ax1, aux_transform=tr) # GO try 2\n",
    "# note that ax2.transData == tr + ax1.transData \n",
    "# Anything you draw in ax2 will match the ticks and grids of ax1.\n",
    "ax1.parasites.append(ax2)\n",
    "\n",
    "pc=ax2.pcolormesh(lonp,latp, ap, vmin=c1,vmax=c2, cmap=cmap)\n",
    "fig.colorbar(pc, pad=0.15)\n",
    "\n",
    "# Run the corners through the transform so we can set the transformed axis limits\n",
    "pts=np.array([lonp.flatten(),latp.flatten()]).T\n",
    "r=tr.transform_affine(pts)\n",
    "xx,yy = r[:,0],r[:,1]\n",
    "x0,x1 = np.min(xx),np.max(xx)\n",
    "y0,y1 = np.min(yy),np.max(yy)\n",
    "ax1.set_xlim(x0,x1)\n",
    "ax1.set_ylim(y0,y1)\n",
    "\n",
    "ax1.set_xlabel('Longitude (deg)')\n",
    "ax1.set_ylabel('Latitude (deg)')\n",
    "#ax1.set_axis_bgcolor('burlywood')\n",
    "ax1.grid(True, zorder=5)\n",
    "ax1.set_aspect(1)\n",
    "\n",
    "if 1:\n",
    "    # Grid index plot at right \n",
    "    ax9 = plt.subplot(1,2,2)\n",
    "    pcc=ax9.pcolormesh(ap, vmin=c1,vmax=c2, cmap=cmap)\n",
    "    fig.colorbar(pcc, pad=0.05)\n",
    "    ax9.set_xlabel('Grid X')\n",
    "    ax9.set_ylabel('Grid Y')\n",
    "    ax9.set_aspect(5/4.4)\n",
    "    plt.tight_layout(pad=1,h_pad=1)\n",
    "plt.draw()\n",
    "plt.show()"
   ]
  },
  {
   "cell_type": "code",
   "execution_count": 28,
   "id": "994e1794",
   "metadata": {},
   "outputs": [
    {
     "data": {
      "text/plain": [
       "<matplotlib.transforms.Affine2D at 0x17c2c931f70>"
      ]
     },
     "execution_count": 28,
     "metadata": {},
     "output_type": "execute_result"
    }
   ],
   "source": [
    "tr"
   ]
  },
  {
   "cell_type": "code",
   "execution_count": null,
   "id": "bada1469",
   "metadata": {},
   "outputs": [],
   "source": []
  }
 ],
 "metadata": {
  "kernelspec": {
   "display_name": "Python 3 (ipykernel)",
   "language": "python",
   "name": "python3"
  },
  "language_info": {
   "codemirror_mode": {
    "name": "ipython",
    "version": 3
   },
   "file_extension": ".py",
   "mimetype": "text/x-python",
   "name": "python",
   "nbconvert_exporter": "python",
   "pygments_lexer": "ipython3",
   "version": "3.9.13"
  }
 },
 "nbformat": 4,
 "nbformat_minor": 5
}
