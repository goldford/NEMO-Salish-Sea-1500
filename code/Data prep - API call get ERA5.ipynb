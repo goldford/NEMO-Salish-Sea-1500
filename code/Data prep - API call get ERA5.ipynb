{
 "cells": [
  {
   "cell_type": "code",
   "execution_count": 1,
   "metadata": {},
   "outputs": [
    {
     "name": "stderr",
     "output_type": "stream",
     "text": [
      "2021-05-27 12:31:27,962 INFO Welcome to the CDS\n",
      "2021-05-27 12:31:27,974 INFO Sending request to https://cds.climate.copernicus.eu/api/v2/resources/reanalysis-era5-single-levels\n",
      "2021-05-27 12:31:28,148 INFO Request is queued\n",
      "2021-05-27 12:43:50,630 INFO Request is running\n",
      "2021-05-27 14:04:17,332 INFO Request is completed\n",
      "2021-05-27 14:04:17,344 INFO Downloading https://download-0011.copernicus-climate.eu/cache-compute-0011/cache/data9/adaptor.mars.internal-1622144590.1877725-24096-5-8a53a1fa-d558-4e3b-bc21-e9756c6b7ca4.nc to ERA5_SalishSea_9vars_1979.nc (70.4M)\n",
      "2021-05-27 14:04:29,170 INFO Download rate 6M/s                                                                        \n"
     ]
    },
    {
     "data": {
      "text/plain": [
       "Result(content_length=73832616,content_type=application/x-netcdf,location=https://download-0011.copernicus-climate.eu/cache-compute-0011/cache/data9/adaptor.mars.internal-1622144590.1877725-24096-5-8a53a1fa-d558-4e3b-bc21-e9756c6b7ca4.nc)"
      ]
     },
     "execution_count": 1,
     "metadata": {},
     "output_type": "execute_result"
    }
   ],
   "source": [
    "# these requests get queued and processed and can be viewed and downloaded here: \n",
    "#https://cds.climate.copernicus.eu/cdsapp#!/yourrequests\n",
    "# this script will also download the file when it's ready\n",
    "\n",
    "import cdsapi\n",
    "\n",
    "import cdsapi\n",
    "\n",
    "c = cdsapi.Client()\n",
    "\n",
    "c.retrieve(\n",
    "    'reanalysis-era5-single-levels',\n",
    "    {\n",
    "        'product_type': 'reanalysis',\n",
    "        'variable': [\n",
    "            '10m_u_component_of_wind', '10m_v_component_of_wind', '2m_dewpoint_temperature',\n",
    "            '2m_temperature', 'mean_snowfall_rate', 'mean_surface_net_long_wave_radiation_flux',\n",
    "            'mean_surface_net_short_wave_radiation_flux', 'mean_total_precipitation_rate', 'surface_pressure',\n",
    "        ],\n",
    "        'year': '1979',\n",
    "        'month': [\n",
    "            '01', '02', '03',\n",
    "            '04', '05', '06',\n",
    "            '07', '08', '09',\n",
    "            '10', '11', '12',\n",
    "        ],\n",
    "        'day': [\n",
    "            '01', '02', '03',\n",
    "            '04', '05', '06',\n",
    "            '07', '08', '09',\n",
    "            '10', '11', '12',\n",
    "            '13', '14', '15',\n",
    "            '16', '17', '18',\n",
    "            '19', '20', '21',\n",
    "            '22', '23', '24',\n",
    "            '25', '26', '27',\n",
    "            '28', '29', '30',\n",
    "            '31',\n",
    "        ],\n",
    "        'time': [\n",
    "            '00:00', '01:00', '02:00',\n",
    "            '03:00', '04:00', '05:00',\n",
    "            '06:00', '07:00', '08:00',\n",
    "            '09:00', '10:00', '11:00',\n",
    "            '12:00', '13:00', '14:00',\n",
    "            '15:00', '16:00', '17:00',\n",
    "            '18:00', '19:00', '20:00',\n",
    "            '21:00', '22:00', '23:00',\n",
    "        ],\n",
    "        'area': [\n",
    "            51.07, -127, 46.73,\n",
    "            -120.7,\n",
    "        ],\n",
    "        'format': 'netcdf',\n",
    "    },\n",
    "    'ERA5_SalishSea_9vars_1979.nc')"
   ]
  },
  {
   "cell_type": "code",
   "execution_count": 2,
   "metadata": {},
   "outputs": [
    {
     "name": "stderr",
     "output_type": "stream",
     "text": [
      "2021-05-27 14:04:29,456 INFO Welcome to the CDS\n",
      "2021-05-27 14:04:29,459 INFO Sending request to https://cds.climate.copernicus.eu/api/v2/resources/reanalysis-era5-single-levels\n",
      "2021-05-27 14:04:29,620 INFO Request is queued\n",
      "2021-05-27 14:45:01,332 INFO Request is completed\n",
      "2021-05-27 14:45:01,336 INFO Downloading https://download-0005.copernicus-climate.eu/cache-compute-0005/cache/data6/adaptor.mars.internal-1622146820.345261-15035-16-881e8ae0-065e-46c9-a82c-f993c9dce8ed.nc to ERA5_SalishSea_9vars_1980.nc (70.6M)\n",
      "2021-05-27 14:45:15,833 INFO Download rate 4.9M/s                                                                      \n"
     ]
    },
    {
     "data": {
      "text/plain": [
       "Result(content_length=74034888,content_type=application/x-netcdf,location=https://download-0005.copernicus-climate.eu/cache-compute-0005/cache/data6/adaptor.mars.internal-1622146820.345261-15035-16-881e8ae0-065e-46c9-a82c-f993c9dce8ed.nc)"
      ]
     },
     "execution_count": 2,
     "metadata": {},
     "output_type": "execute_result"
    }
   ],
   "source": []
  },
  {
   "cell_type": "code",
   "execution_count": null,
   "metadata": {},
   "outputs": [],
   "source": []
  }
 ],
 "metadata": {
  "kernelspec": {
   "display_name": "Python 3 (ipykernel)",
   "language": "python",
   "name": "python3"
  },
  "language_info": {
   "codemirror_mode": {
    "name": "ipython",
    "version": 3
   },
   "file_extension": ".py",
   "mimetype": "text/x-python",
   "name": "python",
   "nbconvert_exporter": "python",
   "pygments_lexer": "ipython3",
   "version": "3.7.4"
  }
 },
 "nbformat": 4,
 "nbformat_minor": 2
}
